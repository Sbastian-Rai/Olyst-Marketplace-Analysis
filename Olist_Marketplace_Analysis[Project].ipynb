{
  "cells": [
    {
      "cell_type": "markdown",
      "metadata": {
        "id": "view-in-github",
        "colab_type": "text"
      },
      "source": [
        "<a href=\"https://colab.research.google.com/github/Sbastian-Rai/Olyst-Marketplace-Analysist/blob/main/Olist_Marketplace_Analysis%5BProject%5D.ipynb\" target=\"_parent\"><img src=\"https://colab.research.google.com/assets/colab-badge.svg\" alt=\"Open In Colab\"/></a>"
      ]
    },
    {
      "cell_type": "markdown",
      "metadata": {
        "id": "7eGAGMqv-3eT"
      },
      "source": [
        "# Olyst Marketplace Analysis\n",
        "\n",
        "***Projet data wrangling dan SQL oleh M Sbastian Rai***\n",
        "\n",
        "Project ini merupakan bagian dari project siswa kelas Data Analisis Pacmann Academy.\n",
        "\n",
        "Dalam project ini, analisis data dilakukan terhadap database (.db) dari Olyst Marketplace.\n",
        "\n",
        "Analisis data dibatasi melalui tujuan-tujuan berikut:\n",
        "\n",
        "Objectives:\n",
        "\n",
        "1.   Mengetahui kategori produk dengan pemesanan terbesar dan terkecil\n",
        "2.   Mengetahui pendapatan dari penjualan tiap kategori produk\n",
        "3.   Mengetahui produk dengan ketidaksedeiaan dan pembatalan terbesar terbesar\n",
        "4.   Mengetahui sebaran state dengan pembelian terbanyak\n",
        "5. Melakukan analisis khusus terhadap penilaian review dari wilayah dengan pemesanan terbesar\n"
      ]
    },
    {
      "cell_type": "markdown",
      "source": [
        "# **DATA PREPARATION**"
      ],
      "metadata": {
        "id": "cJUfMbxBP1yE"
      }
    },
    {
      "cell_type": "markdown",
      "source": [
        "TAHAP 1: MENGIMPORT DATA"
      ],
      "metadata": {
        "id": "vFUtDeyjn5z7"
      }
    },
    {
      "cell_type": "code",
      "execution_count": 1,
      "metadata": {
        "colab": {
          "base_uri": "https://localhost:8080/"
        },
        "id": "MXmBGBrrQFeA",
        "outputId": "28f04930-7f29-451c-d8a5-cab7cd7f76c1"
      },
      "outputs": [
        {
          "output_type": "execute_result",
          "data": {
            "text/plain": [
              "<function warnings.filterwarnings(action, message='', category=<class 'Warning'>, module='', lineno=0, append=False)>"
            ]
          },
          "metadata": {},
          "execution_count": 1
        }
      ],
      "source": [
        "#Import library\n",
        "import pandas as pd\n",
        "import numpy as np\n",
        "import seaborn as sns\n",
        "import matplotlib.pyplot as plt\n",
        "import sqlite3\n",
        "import warnings\n",
        "\n",
        "\n",
        "warnings.filterwarnings"
      ]
    },
    {
      "cell_type": "code",
      "execution_count": 2,
      "metadata": {
        "id": "9JEJLySKfzLu"
      },
      "outputs": [],
      "source": [
        "#IMPORTING FILE\n",
        "\n",
        "from google.colab import files"
      ]
    },
    {
      "cell_type": "markdown",
      "source": [
        "TAHAP 2: MEMBUAT FUNGSI UNTUK MEN-SETTING DATA"
      ],
      "metadata": {
        "id": "0GMCeVNOoEVU"
      }
    },
    {
      "cell_type": "code",
      "execution_count": 3,
      "metadata": {
        "id": "7sMS2jv_x9U3"
      },
      "outputs": [],
      "source": [
        "#FUNCTION 1: LOADING THE DATA\n",
        "\n",
        "def load_data(query):\n",
        "    con = sqlite3.connect(\"/content/drive/MyDrive/Google Collab/Salinan olist.db\")\n",
        "    cur = con.cursor()\n",
        "    cur.execute(query)\n",
        "    data = cur.fetchall()\n",
        "    con.close()\n",
        "\n",
        "    return data\n"
      ]
    },
    {
      "cell_type": "code",
      "execution_count": 5,
      "metadata": {
        "id": "mcEOdg9NckEP"
      },
      "outputs": [],
      "source": [
        "#FUNCTION 2: CREATING THE DATAFRAME\n",
        "\n",
        "def create_df(query):\n",
        "    # to load data\n",
        "    con = sqlite3.connect(\"/content/drive/MyDrive/Google Collab/Salinan olist.db\")\n",
        "    cur = con.cursor()\n",
        "    cur.execute(query)\n",
        "    data = cur.fetchall()\n",
        "\n",
        "    # to create the dataframe\n",
        "    col_names = [desc [0] for desc in cur.description]\n",
        "    df = pd.DataFrame(data, columns=col_names)\n",
        "    con.close()\n",
        "\n",
        "    return df"
      ]
    },
    {
      "cell_type": "markdown",
      "source": [
        "TAHAP 3: MENGAKSES DATABASE DAN MENYELEKSI DATA"
      ],
      "metadata": {
        "id": "SrSubfGJoLzi"
      }
    },
    {
      "cell_type": "code",
      "execution_count": 117,
      "metadata": {
        "id": "9oiLDdJEfAN0"
      },
      "outputs": [],
      "source": [
        "#GETTING TO KNOW THE DATABASE\n",
        "\n",
        "query = \"\"\"\n",
        "SELECT\n",
        "    name\n",
        "FROM\n",
        "    sqlite_master\n",
        "WHERE type='table'\n",
        "\"\"\"\n",
        "tables_info = load_data(query)\n",
        "# tables_info"
      ]
    },
    {
      "cell_type": "code",
      "execution_count": 10,
      "metadata": {
        "id": "rsB8YssGfmTr"
      },
      "outputs": [],
      "source": [
        "#GETTING TO KNOW EACH TABLE INFORMATION\n",
        "query = \"\"\"\n",
        "SELECT\n",
        "    *\n",
        "FROM\n",
        "    olist_order_dataset\n",
        "\"\"\"\n",
        "df_order = create_df(query)\n",
        "\n",
        "\n",
        "# df_order.info()\n",
        "\n",
        "#columns needed: order_id, order_status\n",
        "#table shortname: o"
      ]
    },
    {
      "cell_type": "code",
      "execution_count": 11,
      "metadata": {
        "id": "YHT7WZaWp96x"
      },
      "outputs": [],
      "source": [
        "query = \"\"\"\n",
        "SELECT\n",
        "    *\n",
        "FROM\n",
        "    olist_order_items_dataset\n",
        "\"\"\"\n",
        "df_order_item = create_df(query)\n",
        "\n",
        "# df_order_item.info()\n",
        "\n",
        "#columns needed: order_id, price\n",
        "#table shortname: oi"
      ]
    },
    {
      "cell_type": "code",
      "execution_count": 13,
      "metadata": {
        "id": "voHo-txYrROZ"
      },
      "outputs": [],
      "source": [
        "query = \"\"\"\n",
        "SELECT\n",
        "    *\n",
        "FROM\n",
        "    olist_products_dataset\n",
        "\"\"\"\n",
        "df_products = create_df(query)\n",
        "\n",
        "# df_products.info()\n",
        "\n",
        "#columns needed: product_id, product_category_name\n",
        "#table shortname: p"
      ]
    },
    {
      "cell_type": "code",
      "source": [
        "query = \"\"\"\n",
        "SELECT\n",
        "    *\n",
        "FROM\n",
        "    'product_category_name_translation'\n",
        "\"\"\"\n",
        "df_products_trans = create_df(query)\n",
        "\n",
        "# df_products_trans.info()\n",
        "\n",
        "#columns needed: product_id, product_category_name\n",
        "#table shortname: t\n"
      ],
      "metadata": {
        "id": "aDBYqkjNa9f1"
      },
      "execution_count": 14,
      "outputs": []
    },
    {
      "cell_type": "code",
      "execution_count": 15,
      "metadata": {
        "id": "uWcfZgFjrsI_"
      },
      "outputs": [],
      "source": [
        "query = \"\"\"\n",
        "SELECT\n",
        "    *\n",
        "FROM\n",
        "    olist_order_reviews_dataset\n",
        "\"\"\"\n",
        "df_reviews = create_df(query)\n",
        "\n",
        "# df_reviews.info()\n",
        "\n",
        "#columns needed: order_id, review_score\n",
        "#table shortname: r"
      ]
    },
    {
      "cell_type": "code",
      "execution_count": 16,
      "metadata": {
        "id": "NWX5cTeQr4q1"
      },
      "outputs": [],
      "source": [
        "query = \"\"\"\n",
        "SELECT\n",
        "    *\n",
        "FROM\n",
        "    olist_order_customer_dataset\n",
        "\"\"\"\n",
        "df_customer = create_df(query)\n",
        "\n",
        "# df_customer.info()\n",
        "\n",
        "#columns needed: cutomer_id, customer_state\n",
        "#table shortname: c"
      ]
    },
    {
      "cell_type": "markdown",
      "source": [
        "TAHAP 4: MEMBUAT DATAFRAME BARU, GABUNGAN DARI BERBAGAI TABEL"
      ],
      "metadata": {
        "id": "9L_oxZEaoxM7"
      }
    },
    {
      "cell_type": "code",
      "source": [
        "#CREATING NEW TABLE CONSISTING NEEDED VARIABLE\n",
        "\n",
        "query = \"\"\"\n",
        "WITH orders_with_city AS(\n",
        "  SELECT\n",
        "     order_id,\n",
        "     customer_state\n",
        "   FROM\n",
        "     olist_order_dataset oi\n",
        "   LEFT JOIN\n",
        "     olist_order_customer_dataset c ON oi.customer_id = c.customer_id\n",
        ")\n",
        "SELECT\n",
        "    oi.order_id,\n",
        "    t.product_category_name_english AS product_cat,\n",
        "    oi.price,\n",
        "    o.order_status,\n",
        "    oc.customer_state,\n",
        "    r.review_score\n",
        "FROM\n",
        "    olist_order_items_dataset oi\n",
        "LEFT JOIN\n",
        "    olist_products_dataset p ON oi.product_id = p.product_id\n",
        "LEFT JOIN\n",
        "    product_category_name_translation t ON p.product_category_name = t.product_category_name\n",
        "LEFT JOIN\n",
        "    olist_order_dataset o ON oi.order_id = o.order_id\n",
        "LEFT JOIN\n",
        "    olist_order_reviews_dataset r ON oi.order_id = r.order_id\n",
        "LEFT JOIN\n",
        "    olist_order_payments_dataset op ON oi.order_id = op.order_id\n",
        "LEFT JOIN\n",
        "    orders_with_city oc ON oc.order_id = oi.order_id\n",
        "\"\"\"\n",
        "\n",
        "df = create_df(query)\n",
        "df"
      ],
      "metadata": {
        "id": "gO08EMvFaARR",
        "colab": {
          "base_uri": "https://localhost:8080/",
          "height": 424
        },
        "outputId": "69ee906d-49fc-4b19-b9d1-610af4a08319",
        "cellView": "code"
      },
      "execution_count": 19,
      "outputs": [
        {
          "output_type": "execute_result",
          "data": {
            "text/plain": [
              "                                order_id            product_cat   price  \\\n",
              "0       00010242fe8c5a6d1ba2dd792cb16214             cool_stuff   58.90   \n",
              "1       00018f77f2f0320c557190d7a144bdd3               pet_shop  239.90   \n",
              "2       000229ec398224ef6ca0657da4fc703e        furniture_decor  199.00   \n",
              "3       00024acbcdf0a6daa1e931b038114c75              perfumery   12.99   \n",
              "4       00042b26cf59d7ce69dfabb4e55b4fd9           garden_tools  199.90   \n",
              "...                                  ...                    ...     ...   \n",
              "118305  fffc94f6ce00a00581880bf54a75a037             housewares  299.99   \n",
              "118306  fffcd46ef2263f404302a634eb57f7eb  computers_accessories  350.00   \n",
              "118307  fffce4705a9662cd70adb13d4a31832d         sports_leisure   99.90   \n",
              "118308  fffe18544ffabc95dfada21779c9644f  computers_accessories   55.99   \n",
              "118309  fffe41c64501cc87c801fd61db3f6244         bed_bath_table   43.00   \n",
              "\n",
              "       order_status customer_state  review_score  \n",
              "0         delivered             RJ           5.0  \n",
              "1         delivered             SP           4.0  \n",
              "2         delivered             MG           5.0  \n",
              "3         delivered             SP           4.0  \n",
              "4         delivered             SP           5.0  \n",
              "...             ...            ...           ...  \n",
              "118305    delivered             MA           5.0  \n",
              "118306    delivered             PR           5.0  \n",
              "118307    delivered             SP           5.0  \n",
              "118308    delivered             SP           5.0  \n",
              "118309    delivered             SP           5.0  \n",
              "\n",
              "[118310 rows x 6 columns]"
            ],
            "text/html": [
              "\n",
              "\n",
              "  <div id=\"df-344572dc-55c0-42b1-bb4e-1ac291e9afc4\">\n",
              "    <div class=\"colab-df-container\">\n",
              "      <div>\n",
              "<style scoped>\n",
              "    .dataframe tbody tr th:only-of-type {\n",
              "        vertical-align: middle;\n",
              "    }\n",
              "\n",
              "    .dataframe tbody tr th {\n",
              "        vertical-align: top;\n",
              "    }\n",
              "\n",
              "    .dataframe thead th {\n",
              "        text-align: right;\n",
              "    }\n",
              "</style>\n",
              "<table border=\"1\" class=\"dataframe\">\n",
              "  <thead>\n",
              "    <tr style=\"text-align: right;\">\n",
              "      <th></th>\n",
              "      <th>order_id</th>\n",
              "      <th>product_cat</th>\n",
              "      <th>price</th>\n",
              "      <th>order_status</th>\n",
              "      <th>customer_state</th>\n",
              "      <th>review_score</th>\n",
              "    </tr>\n",
              "  </thead>\n",
              "  <tbody>\n",
              "    <tr>\n",
              "      <th>0</th>\n",
              "      <td>00010242fe8c5a6d1ba2dd792cb16214</td>\n",
              "      <td>cool_stuff</td>\n",
              "      <td>58.90</td>\n",
              "      <td>delivered</td>\n",
              "      <td>RJ</td>\n",
              "      <td>5.0</td>\n",
              "    </tr>\n",
              "    <tr>\n",
              "      <th>1</th>\n",
              "      <td>00018f77f2f0320c557190d7a144bdd3</td>\n",
              "      <td>pet_shop</td>\n",
              "      <td>239.90</td>\n",
              "      <td>delivered</td>\n",
              "      <td>SP</td>\n",
              "      <td>4.0</td>\n",
              "    </tr>\n",
              "    <tr>\n",
              "      <th>2</th>\n",
              "      <td>000229ec398224ef6ca0657da4fc703e</td>\n",
              "      <td>furniture_decor</td>\n",
              "      <td>199.00</td>\n",
              "      <td>delivered</td>\n",
              "      <td>MG</td>\n",
              "      <td>5.0</td>\n",
              "    </tr>\n",
              "    <tr>\n",
              "      <th>3</th>\n",
              "      <td>00024acbcdf0a6daa1e931b038114c75</td>\n",
              "      <td>perfumery</td>\n",
              "      <td>12.99</td>\n",
              "      <td>delivered</td>\n",
              "      <td>SP</td>\n",
              "      <td>4.0</td>\n",
              "    </tr>\n",
              "    <tr>\n",
              "      <th>4</th>\n",
              "      <td>00042b26cf59d7ce69dfabb4e55b4fd9</td>\n",
              "      <td>garden_tools</td>\n",
              "      <td>199.90</td>\n",
              "      <td>delivered</td>\n",
              "      <td>SP</td>\n",
              "      <td>5.0</td>\n",
              "    </tr>\n",
              "    <tr>\n",
              "      <th>...</th>\n",
              "      <td>...</td>\n",
              "      <td>...</td>\n",
              "      <td>...</td>\n",
              "      <td>...</td>\n",
              "      <td>...</td>\n",
              "      <td>...</td>\n",
              "    </tr>\n",
              "    <tr>\n",
              "      <th>118305</th>\n",
              "      <td>fffc94f6ce00a00581880bf54a75a037</td>\n",
              "      <td>housewares</td>\n",
              "      <td>299.99</td>\n",
              "      <td>delivered</td>\n",
              "      <td>MA</td>\n",
              "      <td>5.0</td>\n",
              "    </tr>\n",
              "    <tr>\n",
              "      <th>118306</th>\n",
              "      <td>fffcd46ef2263f404302a634eb57f7eb</td>\n",
              "      <td>computers_accessories</td>\n",
              "      <td>350.00</td>\n",
              "      <td>delivered</td>\n",
              "      <td>PR</td>\n",
              "      <td>5.0</td>\n",
              "    </tr>\n",
              "    <tr>\n",
              "      <th>118307</th>\n",
              "      <td>fffce4705a9662cd70adb13d4a31832d</td>\n",
              "      <td>sports_leisure</td>\n",
              "      <td>99.90</td>\n",
              "      <td>delivered</td>\n",
              "      <td>SP</td>\n",
              "      <td>5.0</td>\n",
              "    </tr>\n",
              "    <tr>\n",
              "      <th>118308</th>\n",
              "      <td>fffe18544ffabc95dfada21779c9644f</td>\n",
              "      <td>computers_accessories</td>\n",
              "      <td>55.99</td>\n",
              "      <td>delivered</td>\n",
              "      <td>SP</td>\n",
              "      <td>5.0</td>\n",
              "    </tr>\n",
              "    <tr>\n",
              "      <th>118309</th>\n",
              "      <td>fffe41c64501cc87c801fd61db3f6244</td>\n",
              "      <td>bed_bath_table</td>\n",
              "      <td>43.00</td>\n",
              "      <td>delivered</td>\n",
              "      <td>SP</td>\n",
              "      <td>5.0</td>\n",
              "    </tr>\n",
              "  </tbody>\n",
              "</table>\n",
              "<p>118310 rows × 6 columns</p>\n",
              "</div>\n",
              "      <button class=\"colab-df-convert\" onclick=\"convertToInteractive('df-344572dc-55c0-42b1-bb4e-1ac291e9afc4')\"\n",
              "              title=\"Convert this dataframe to an interactive table.\"\n",
              "              style=\"display:none;\">\n",
              "\n",
              "  <svg xmlns=\"http://www.w3.org/2000/svg\" height=\"24px\"viewBox=\"0 0 24 24\"\n",
              "       width=\"24px\">\n",
              "    <path d=\"M0 0h24v24H0V0z\" fill=\"none\"/>\n",
              "    <path d=\"M18.56 5.44l.94 2.06.94-2.06 2.06-.94-2.06-.94-.94-2.06-.94 2.06-2.06.94zm-11 1L8.5 8.5l.94-2.06 2.06-.94-2.06-.94L8.5 2.5l-.94 2.06-2.06.94zm10 10l.94 2.06.94-2.06 2.06-.94-2.06-.94-.94-2.06-.94 2.06-2.06.94z\"/><path d=\"M17.41 7.96l-1.37-1.37c-.4-.4-.92-.59-1.43-.59-.52 0-1.04.2-1.43.59L10.3 9.45l-7.72 7.72c-.78.78-.78 2.05 0 2.83L4 21.41c.39.39.9.59 1.41.59.51 0 1.02-.2 1.41-.59l7.78-7.78 2.81-2.81c.8-.78.8-2.07 0-2.86zM5.41 20L4 18.59l7.72-7.72 1.47 1.35L5.41 20z\"/>\n",
              "  </svg>\n",
              "      </button>\n",
              "\n",
              "\n",
              "\n",
              "    <div id=\"df-e975d80a-fc9b-4729-ab63-105fb4b398fa\">\n",
              "      <button class=\"colab-df-quickchart\" onclick=\"quickchart('df-e975d80a-fc9b-4729-ab63-105fb4b398fa')\"\n",
              "              title=\"Suggest charts.\"\n",
              "              style=\"display:none;\">\n",
              "\n",
              "<svg xmlns=\"http://www.w3.org/2000/svg\" height=\"24px\"viewBox=\"0 0 24 24\"\n",
              "     width=\"24px\">\n",
              "    <g>\n",
              "        <path d=\"M19 3H5c-1.1 0-2 .9-2 2v14c0 1.1.9 2 2 2h14c1.1 0 2-.9 2-2V5c0-1.1-.9-2-2-2zM9 17H7v-7h2v7zm4 0h-2V7h2v10zm4 0h-2v-4h2v4z\"/>\n",
              "    </g>\n",
              "</svg>\n",
              "      </button>\n",
              "    </div>\n",
              "\n",
              "<style>\n",
              "  .colab-df-quickchart {\n",
              "    background-color: #E8F0FE;\n",
              "    border: none;\n",
              "    border-radius: 50%;\n",
              "    cursor: pointer;\n",
              "    display: none;\n",
              "    fill: #1967D2;\n",
              "    height: 32px;\n",
              "    padding: 0 0 0 0;\n",
              "    width: 32px;\n",
              "  }\n",
              "\n",
              "  .colab-df-quickchart:hover {\n",
              "    background-color: #E2EBFA;\n",
              "    box-shadow: 0px 1px 2px rgba(60, 64, 67, 0.3), 0px 1px 3px 1px rgba(60, 64, 67, 0.15);\n",
              "    fill: #174EA6;\n",
              "  }\n",
              "\n",
              "  [theme=dark] .colab-df-quickchart {\n",
              "    background-color: #3B4455;\n",
              "    fill: #D2E3FC;\n",
              "  }\n",
              "\n",
              "  [theme=dark] .colab-df-quickchart:hover {\n",
              "    background-color: #434B5C;\n",
              "    box-shadow: 0px 1px 3px 1px rgba(0, 0, 0, 0.15);\n",
              "    filter: drop-shadow(0px 1px 2px rgba(0, 0, 0, 0.3));\n",
              "    fill: #FFFFFF;\n",
              "  }\n",
              "</style>\n",
              "\n",
              "    <script>\n",
              "      async function quickchart(key) {\n",
              "        const containerElement = document.querySelector('#' + key);\n",
              "        const charts = await google.colab.kernel.invokeFunction(\n",
              "            'suggestCharts', [key], {});\n",
              "      }\n",
              "    </script>\n",
              "\n",
              "      <script>\n",
              "\n",
              "function displayQuickchartButton(domScope) {\n",
              "  let quickchartButtonEl =\n",
              "    domScope.querySelector('#df-e975d80a-fc9b-4729-ab63-105fb4b398fa button.colab-df-quickchart');\n",
              "  quickchartButtonEl.style.display =\n",
              "    google.colab.kernel.accessAllowed ? 'block' : 'none';\n",
              "}\n",
              "\n",
              "        displayQuickchartButton(document);\n",
              "      </script>\n",
              "      <style>\n",
              "    .colab-df-container {\n",
              "      display:flex;\n",
              "      flex-wrap:wrap;\n",
              "      gap: 12px;\n",
              "    }\n",
              "\n",
              "    .colab-df-convert {\n",
              "      background-color: #E8F0FE;\n",
              "      border: none;\n",
              "      border-radius: 50%;\n",
              "      cursor: pointer;\n",
              "      display: none;\n",
              "      fill: #1967D2;\n",
              "      height: 32px;\n",
              "      padding: 0 0 0 0;\n",
              "      width: 32px;\n",
              "    }\n",
              "\n",
              "    .colab-df-convert:hover {\n",
              "      background-color: #E2EBFA;\n",
              "      box-shadow: 0px 1px 2px rgba(60, 64, 67, 0.3), 0px 1px 3px 1px rgba(60, 64, 67, 0.15);\n",
              "      fill: #174EA6;\n",
              "    }\n",
              "\n",
              "    [theme=dark] .colab-df-convert {\n",
              "      background-color: #3B4455;\n",
              "      fill: #D2E3FC;\n",
              "    }\n",
              "\n",
              "    [theme=dark] .colab-df-convert:hover {\n",
              "      background-color: #434B5C;\n",
              "      box-shadow: 0px 1px 3px 1px rgba(0, 0, 0, 0.15);\n",
              "      filter: drop-shadow(0px 1px 2px rgba(0, 0, 0, 0.3));\n",
              "      fill: #FFFFFF;\n",
              "    }\n",
              "  </style>\n",
              "\n",
              "      <script>\n",
              "        const buttonEl =\n",
              "          document.querySelector('#df-344572dc-55c0-42b1-bb4e-1ac291e9afc4 button.colab-df-convert');\n",
              "        buttonEl.style.display =\n",
              "          google.colab.kernel.accessAllowed ? 'block' : 'none';\n",
              "\n",
              "        async function convertToInteractive(key) {\n",
              "          const element = document.querySelector('#df-344572dc-55c0-42b1-bb4e-1ac291e9afc4');\n",
              "          const dataTable =\n",
              "            await google.colab.kernel.invokeFunction('convertToInteractive',\n",
              "                                                     [key], {});\n",
              "          if (!dataTable) return;\n",
              "\n",
              "          const docLinkHtml = 'Like what you see? Visit the ' +\n",
              "            '<a target=\"_blank\" href=https://colab.research.google.com/notebooks/data_table.ipynb>data table notebook</a>'\n",
              "            + ' to learn more about interactive tables.';\n",
              "          element.innerHTML = '';\n",
              "          dataTable['output_type'] = 'display_data';\n",
              "          await google.colab.output.renderOutput(dataTable, element);\n",
              "          const docLink = document.createElement('div');\n",
              "          docLink.innerHTML = docLinkHtml;\n",
              "          element.appendChild(docLink);\n",
              "        }\n",
              "      </script>\n",
              "    </div>\n",
              "  </div>\n"
            ]
          },
          "metadata": {},
          "execution_count": 19
        }
      ]
    },
    {
      "cell_type": "markdown",
      "source": [
        "TAHAP 5: DATA CLEANSING"
      ],
      "metadata": {
        "id": "lAq5XP8qpGvG"
      }
    },
    {
      "cell_type": "code",
      "execution_count": 21,
      "metadata": {
        "id": "sqLfbuXUMH8B",
        "colab": {
          "base_uri": "https://localhost:8080/",
          "height": 238
        },
        "outputId": "65ab041d-3885-4fe5-cd67-c9bd794997ef"
      },
      "outputs": [
        {
          "output_type": "execute_result",
          "data": {
            "text/plain": [
              "    Data Features Data Type  Null  Null (%)  Unique  \\\n",
              "0        order_id    object     0     0.000   98666   \n",
              "1     product_cat    object  1734     1.466      71   \n",
              "2           price   float64     0     0.000    5968   \n",
              "3    order_status    object     0     0.000       7   \n",
              "4  customer_state    object     0     0.000      27   \n",
              "5    review_score   float64   978     0.827       5   \n",
              "\n",
              "                                       Unique Sample  \n",
              "0  [f283e9196449811a7967b7c5d2794418, 3afc0f9406e...  \n",
              "1  [fashion_underwear_beach, home_construction, c...  \n",
              "2                            [149.98, 114.46, 360.0]  \n",
              "3                  [canceled, unavailable, approved]  \n",
              "4                                       [PR, BA, PB]  \n",
              "5                                    [2.0, 4.0, 1.0]  "
            ],
            "text/html": [
              "\n",
              "\n",
              "  <div id=\"df-22fe2e8e-c273-4c90-8a97-3c0f2e112c4f\">\n",
              "    <div class=\"colab-df-container\">\n",
              "      <div>\n",
              "<style scoped>\n",
              "    .dataframe tbody tr th:only-of-type {\n",
              "        vertical-align: middle;\n",
              "    }\n",
              "\n",
              "    .dataframe tbody tr th {\n",
              "        vertical-align: top;\n",
              "    }\n",
              "\n",
              "    .dataframe thead th {\n",
              "        text-align: right;\n",
              "    }\n",
              "</style>\n",
              "<table border=\"1\" class=\"dataframe\">\n",
              "  <thead>\n",
              "    <tr style=\"text-align: right;\">\n",
              "      <th></th>\n",
              "      <th>Data Features</th>\n",
              "      <th>Data Type</th>\n",
              "      <th>Null</th>\n",
              "      <th>Null (%)</th>\n",
              "      <th>Unique</th>\n",
              "      <th>Unique Sample</th>\n",
              "    </tr>\n",
              "  </thead>\n",
              "  <tbody>\n",
              "    <tr>\n",
              "      <th>0</th>\n",
              "      <td>order_id</td>\n",
              "      <td>object</td>\n",
              "      <td>0</td>\n",
              "      <td>0.000</td>\n",
              "      <td>98666</td>\n",
              "      <td>[f283e9196449811a7967b7c5d2794418, 3afc0f9406e...</td>\n",
              "    </tr>\n",
              "    <tr>\n",
              "      <th>1</th>\n",
              "      <td>product_cat</td>\n",
              "      <td>object</td>\n",
              "      <td>1734</td>\n",
              "      <td>1.466</td>\n",
              "      <td>71</td>\n",
              "      <td>[fashion_underwear_beach, home_construction, c...</td>\n",
              "    </tr>\n",
              "    <tr>\n",
              "      <th>2</th>\n",
              "      <td>price</td>\n",
              "      <td>float64</td>\n",
              "      <td>0</td>\n",
              "      <td>0.000</td>\n",
              "      <td>5968</td>\n",
              "      <td>[149.98, 114.46, 360.0]</td>\n",
              "    </tr>\n",
              "    <tr>\n",
              "      <th>3</th>\n",
              "      <td>order_status</td>\n",
              "      <td>object</td>\n",
              "      <td>0</td>\n",
              "      <td>0.000</td>\n",
              "      <td>7</td>\n",
              "      <td>[canceled, unavailable, approved]</td>\n",
              "    </tr>\n",
              "    <tr>\n",
              "      <th>4</th>\n",
              "      <td>customer_state</td>\n",
              "      <td>object</td>\n",
              "      <td>0</td>\n",
              "      <td>0.000</td>\n",
              "      <td>27</td>\n",
              "      <td>[PR, BA, PB]</td>\n",
              "    </tr>\n",
              "    <tr>\n",
              "      <th>5</th>\n",
              "      <td>review_score</td>\n",
              "      <td>float64</td>\n",
              "      <td>978</td>\n",
              "      <td>0.827</td>\n",
              "      <td>5</td>\n",
              "      <td>[2.0, 4.0, 1.0]</td>\n",
              "    </tr>\n",
              "  </tbody>\n",
              "</table>\n",
              "</div>\n",
              "      <button class=\"colab-df-convert\" onclick=\"convertToInteractive('df-22fe2e8e-c273-4c90-8a97-3c0f2e112c4f')\"\n",
              "              title=\"Convert this dataframe to an interactive table.\"\n",
              "              style=\"display:none;\">\n",
              "\n",
              "  <svg xmlns=\"http://www.w3.org/2000/svg\" height=\"24px\"viewBox=\"0 0 24 24\"\n",
              "       width=\"24px\">\n",
              "    <path d=\"M0 0h24v24H0V0z\" fill=\"none\"/>\n",
              "    <path d=\"M18.56 5.44l.94 2.06.94-2.06 2.06-.94-2.06-.94-.94-2.06-.94 2.06-2.06.94zm-11 1L8.5 8.5l.94-2.06 2.06-.94-2.06-.94L8.5 2.5l-.94 2.06-2.06.94zm10 10l.94 2.06.94-2.06 2.06-.94-2.06-.94-.94-2.06-.94 2.06-2.06.94z\"/><path d=\"M17.41 7.96l-1.37-1.37c-.4-.4-.92-.59-1.43-.59-.52 0-1.04.2-1.43.59L10.3 9.45l-7.72 7.72c-.78.78-.78 2.05 0 2.83L4 21.41c.39.39.9.59 1.41.59.51 0 1.02-.2 1.41-.59l7.78-7.78 2.81-2.81c.8-.78.8-2.07 0-2.86zM5.41 20L4 18.59l7.72-7.72 1.47 1.35L5.41 20z\"/>\n",
              "  </svg>\n",
              "      </button>\n",
              "\n",
              "\n",
              "\n",
              "    <div id=\"df-4d791f98-c6ba-48af-9efc-04e3c6fcc6f6\">\n",
              "      <button class=\"colab-df-quickchart\" onclick=\"quickchart('df-4d791f98-c6ba-48af-9efc-04e3c6fcc6f6')\"\n",
              "              title=\"Suggest charts.\"\n",
              "              style=\"display:none;\">\n",
              "\n",
              "<svg xmlns=\"http://www.w3.org/2000/svg\" height=\"24px\"viewBox=\"0 0 24 24\"\n",
              "     width=\"24px\">\n",
              "    <g>\n",
              "        <path d=\"M19 3H5c-1.1 0-2 .9-2 2v14c0 1.1.9 2 2 2h14c1.1 0 2-.9 2-2V5c0-1.1-.9-2-2-2zM9 17H7v-7h2v7zm4 0h-2V7h2v10zm4 0h-2v-4h2v4z\"/>\n",
              "    </g>\n",
              "</svg>\n",
              "      </button>\n",
              "    </div>\n",
              "\n",
              "<style>\n",
              "  .colab-df-quickchart {\n",
              "    background-color: #E8F0FE;\n",
              "    border: none;\n",
              "    border-radius: 50%;\n",
              "    cursor: pointer;\n",
              "    display: none;\n",
              "    fill: #1967D2;\n",
              "    height: 32px;\n",
              "    padding: 0 0 0 0;\n",
              "    width: 32px;\n",
              "  }\n",
              "\n",
              "  .colab-df-quickchart:hover {\n",
              "    background-color: #E2EBFA;\n",
              "    box-shadow: 0px 1px 2px rgba(60, 64, 67, 0.3), 0px 1px 3px 1px rgba(60, 64, 67, 0.15);\n",
              "    fill: #174EA6;\n",
              "  }\n",
              "\n",
              "  [theme=dark] .colab-df-quickchart {\n",
              "    background-color: #3B4455;\n",
              "    fill: #D2E3FC;\n",
              "  }\n",
              "\n",
              "  [theme=dark] .colab-df-quickchart:hover {\n",
              "    background-color: #434B5C;\n",
              "    box-shadow: 0px 1px 3px 1px rgba(0, 0, 0, 0.15);\n",
              "    filter: drop-shadow(0px 1px 2px rgba(0, 0, 0, 0.3));\n",
              "    fill: #FFFFFF;\n",
              "  }\n",
              "</style>\n",
              "\n",
              "    <script>\n",
              "      async function quickchart(key) {\n",
              "        const containerElement = document.querySelector('#' + key);\n",
              "        const charts = await google.colab.kernel.invokeFunction(\n",
              "            'suggestCharts', [key], {});\n",
              "      }\n",
              "    </script>\n",
              "\n",
              "      <script>\n",
              "\n",
              "function displayQuickchartButton(domScope) {\n",
              "  let quickchartButtonEl =\n",
              "    domScope.querySelector('#df-4d791f98-c6ba-48af-9efc-04e3c6fcc6f6 button.colab-df-quickchart');\n",
              "  quickchartButtonEl.style.display =\n",
              "    google.colab.kernel.accessAllowed ? 'block' : 'none';\n",
              "}\n",
              "\n",
              "        displayQuickchartButton(document);\n",
              "      </script>\n",
              "      <style>\n",
              "    .colab-df-container {\n",
              "      display:flex;\n",
              "      flex-wrap:wrap;\n",
              "      gap: 12px;\n",
              "    }\n",
              "\n",
              "    .colab-df-convert {\n",
              "      background-color: #E8F0FE;\n",
              "      border: none;\n",
              "      border-radius: 50%;\n",
              "      cursor: pointer;\n",
              "      display: none;\n",
              "      fill: #1967D2;\n",
              "      height: 32px;\n",
              "      padding: 0 0 0 0;\n",
              "      width: 32px;\n",
              "    }\n",
              "\n",
              "    .colab-df-convert:hover {\n",
              "      background-color: #E2EBFA;\n",
              "      box-shadow: 0px 1px 2px rgba(60, 64, 67, 0.3), 0px 1px 3px 1px rgba(60, 64, 67, 0.15);\n",
              "      fill: #174EA6;\n",
              "    }\n",
              "\n",
              "    [theme=dark] .colab-df-convert {\n",
              "      background-color: #3B4455;\n",
              "      fill: #D2E3FC;\n",
              "    }\n",
              "\n",
              "    [theme=dark] .colab-df-convert:hover {\n",
              "      background-color: #434B5C;\n",
              "      box-shadow: 0px 1px 3px 1px rgba(0, 0, 0, 0.15);\n",
              "      filter: drop-shadow(0px 1px 2px rgba(0, 0, 0, 0.3));\n",
              "      fill: #FFFFFF;\n",
              "    }\n",
              "  </style>\n",
              "\n",
              "      <script>\n",
              "        const buttonEl =\n",
              "          document.querySelector('#df-22fe2e8e-c273-4c90-8a97-3c0f2e112c4f button.colab-df-convert');\n",
              "        buttonEl.style.display =\n",
              "          google.colab.kernel.accessAllowed ? 'block' : 'none';\n",
              "\n",
              "        async function convertToInteractive(key) {\n",
              "          const element = document.querySelector('#df-22fe2e8e-c273-4c90-8a97-3c0f2e112c4f');\n",
              "          const dataTable =\n",
              "            await google.colab.kernel.invokeFunction('convertToInteractive',\n",
              "                                                     [key], {});\n",
              "          if (!dataTable) return;\n",
              "\n",
              "          const docLinkHtml = 'Like what you see? Visit the ' +\n",
              "            '<a target=\"_blank\" href=https://colab.research.google.com/notebooks/data_table.ipynb>data table notebook</a>'\n",
              "            + ' to learn more about interactive tables.';\n",
              "          element.innerHTML = '';\n",
              "          dataTable['output_type'] = 'display_data';\n",
              "          await google.colab.output.renderOutput(dataTable, element);\n",
              "          const docLink = document.createElement('div');\n",
              "          docLink.innerHTML = docLinkHtml;\n",
              "          element.appendChild(docLink);\n",
              "        }\n",
              "      </script>\n",
              "    </div>\n",
              "  </div>\n"
            ]
          },
          "metadata": {},
          "execution_count": 21
        }
      ],
      "source": [
        "#dataframe preview\n",
        "\n",
        "df_desc = []\n",
        "\n",
        "for col in df.columns:\n",
        "    df_desc.append([\n",
        "        col,\n",
        "        df[col].dtypes,\n",
        "        df[col].isnull().sum(),\n",
        "        round((((df[col].isnull().sum()) / (len(df))) * 100),3),\n",
        "        df[col].nunique(),\n",
        "        df[col].drop_duplicates().sample(3).values\n",
        "    ])\n",
        "\n",
        "df_preview = pd.DataFrame(df_desc, columns = ['Data Features', 'Data Type', 'Null', 'Null (%)', 'Unique', 'Unique Sample'])\n",
        "df_preview\n"
      ]
    },
    {
      "cell_type": "code",
      "source": [
        "#Removing Null Values\n",
        "#Rows containing null values from columns: product_cat and review score will be deleted\n",
        "\n",
        "df.dropna(inplace=True)\n",
        "\n",
        "# df.info()"
      ],
      "metadata": {
        "id": "CKp18-OK5YJ3"
      },
      "execution_count": 24,
      "outputs": []
    },
    {
      "cell_type": "code",
      "execution_count": 29,
      "metadata": {
        "id": "NKdfNThWS6se"
      },
      "outputs": [],
      "source": [
        "#Checking for duplicates\n",
        "\n",
        "df_duplicates = df.duplicated().sum()\n",
        "\n",
        "df.drop_duplicates(inplace=True)\n",
        "\n",
        "# df.info()"
      ]
    },
    {
      "cell_type": "code",
      "source": [
        "#Checking for outlier\n",
        "\n",
        "#Checking statistic descriptive for 'Price' column\n",
        "df['price'].describe()"
      ],
      "metadata": {
        "colab": {
          "base_uri": "https://localhost:8080/"
        },
        "id": "kfr42B8p6rsg",
        "outputId": "20cab820-82e7-411b-ba99-f692c2642bcf"
      },
      "execution_count": 30,
      "outputs": [
        {
          "output_type": "execute_result",
          "data": {
            "text/plain": [
              "count    99311.000000\n",
              "mean       124.910498\n",
              "std        187.884443\n",
              "min          0.850000\n",
              "25%         41.215000\n",
              "50%         79.000000\n",
              "75%        139.800000\n",
              "max       6735.000000\n",
              "Name: price, dtype: float64"
            ]
          },
          "metadata": {},
          "execution_count": 30
        }
      ]
    },
    {
      "cell_type": "code",
      "source": [
        "#Creating Boxplot to detect outlier for Price column\n",
        "sns.boxplot(data = df, x =\"price\")"
      ],
      "metadata": {
        "colab": {
          "base_uri": "https://localhost:8080/",
          "height": 466
        },
        "id": "7JTLhaptz6wy",
        "outputId": "45e43e55-c6d2-4b09-f633-99401c1f8f47"
      },
      "execution_count": 31,
      "outputs": [
        {
          "output_type": "execute_result",
          "data": {
            "text/plain": [
              "<Axes: xlabel='price'>"
            ]
          },
          "metadata": {},
          "execution_count": 31
        },
        {
          "output_type": "display_data",
          "data": {
            "text/plain": [
              "<Figure size 640x480 with 1 Axes>"
            ],
            "image/png": "[encoded data removed]"
          },
          "metadata": {}
        }
      ]
    },
    {
      "cell_type": "code",
      "source": [
        "#Defining a function to removing outliers\n",
        "\n",
        "def removing_outliers (df, column):\n",
        "  df_filtered = df.copy()\n",
        "\n",
        "  upper_quant = df[column].quantile(0.95)\n",
        "  lower_quant = df[column].quantile(0.05)\n",
        "\n",
        "  df_filtered = df[(df[column]< upper_quant) & (df[column]>lower_quant)]\n",
        "\n",
        "  return df_filtered\n"
      ],
      "metadata": {
        "id": "lHGREpCtf268"
      },
      "execution_count": 32,
      "outputs": []
    },
    {
      "cell_type": "code",
      "source": [
        "#Generating new dataframe based on filtered 'price' column\n",
        "\n",
        "df_cleaned = removing_outliers(df, \"price\")\n",
        "\n",
        "df_cleaned.info()"
      ],
      "metadata": {
        "colab": {
          "base_uri": "https://localhost:8080/"
        },
        "id": "KsXCce09youv",
        "outputId": "458ecd8a-2b40-4274-d496-4a305fbb79d9"
      },
      "execution_count": 33,
      "outputs": [
        {
          "output_type": "stream",
          "name": "stdout",
          "text": [
            "<class 'pandas.core.frame.DataFrame'>\n",
            "Int64Index: 89375 entries, 0 to 118309\n",
            "Data columns (total 6 columns):\n",
            " #   Column          Non-Null Count  Dtype  \n",
            "---  ------          --------------  -----  \n",
            " 0   order_id        89375 non-null  object \n",
            " 1   product_cat     89375 non-null  object \n",
            " 2   price           89375 non-null  float64\n",
            " 3   order_status    89375 non-null  object \n",
            " 4   customer_state  89375 non-null  object \n",
            " 5   review_score    89375 non-null  float64\n",
            "dtypes: float64(2), object(4)\n",
            "memory usage: 4.8+ MB\n"
          ]
        }
      ]
    },
    {
      "cell_type": "code",
      "source": [
        "#Checking trough new boxplot\n",
        "\n",
        "sns.boxplot(data = df_cleaned, x=\"price\")"
      ],
      "metadata": {
        "colab": {
          "base_uri": "https://localhost:8080/",
          "height": 466
        },
        "id": "DRl2sPrJgXse",
        "outputId": "4161feb6-751c-429f-fe9c-2263eed2ab7f"
      },
      "execution_count": 34,
      "outputs": [
        {
          "output_type": "execute_result",
          "data": {
            "text/plain": [
              "<Axes: xlabel='price'>"
            ]
          },
          "metadata": {},
          "execution_count": 34
        },
        {
          "output_type": "display_data",
          "data": {
            "text/plain": [
              "<Figure size 640x480 with 1 Axes>"
            ],
            "image/png": "[encoded data removed]"
          },
          "metadata": {}
        }
      ]
    },
    {
      "cell_type": "markdown",
      "source": [
        "#Objectives 1: Looking for highest/lowest ordered product by category"
      ],
      "metadata": {
        "id": "jNtn0ZzTpaey"
      }
    },
    {
      "cell_type": "code",
      "source": [
        "# Define the product by grouping\n",
        "cat_product = df_cleaned.groupby('product_cat')['order_id'].count().sort_values(ascending=False)\n",
        "\n",
        "cat_product"
      ],
      "metadata": {
        "id": "cKuvE8E2jil_",
        "colab": {
          "base_uri": "https://localhost:8080/"
        },
        "outputId": "2b4ebbef-44c5-45ec-b183-c8b2804ad541"
      },
      "execution_count": 41,
      "outputs": [
        {
          "output_type": "execute_result",
          "data": {
            "text/plain": [
              "product_cat\n",
              "bed_bath_table               9444\n",
              "health_beauty                7899\n",
              "sports_leisure               7266\n",
              "computers_accessories        6401\n",
              "furniture_decor              6229\n",
              "                             ... \n",
              "la_cuisine                     11\n",
              "fashion_childrens_clothes       8\n",
              "home_comfort_2                  4\n",
              "security_and_services           2\n",
              "computers                       1\n",
              "Name: order_id, Length: 71, dtype: int64"
            ]
          },
          "metadata": {},
          "execution_count": 41
        }
      ]
    },
    {
      "cell_type": "code",
      "source": [
        "#Highest Ordered Product Category\n",
        "# Defining numbers for highest ordered product category\n",
        "highest_product_cat = cat_product.head(5).sort_values()\n",
        "\n",
        "# Defining the colour map for color of the bars\n",
        "cmap = plt.cm.get_cmap('flare')\n",
        "\n",
        "# Creating a gradiant colour based on numbers for highest ordered product category\n",
        "colors = np.linspace(0.3, 1, 5)\n",
        "\n",
        "# Creating the bar plot\n",
        "plt.figure(figsize=(10, 3)) #define the scale of the figure\n",
        "bars = plt.barh(highest_product_cat.index,\n",
        "                highest_product_cat.values,\n",
        "                color=cmap(colors)) #creating the bars by assigning the defined value\n",
        "\n",
        "# Annottating the value for each bar\n",
        "for i, v in zip(highest_product_cat.index, highest_product_cat.values):\n",
        "    plt.text(v, i, str(v), ha='left', va='center', fontsize=8)\n",
        "\n",
        "# Completing the figure labels\n",
        "plt.xlabel('Product Category')\n",
        "plt.ylabel('Order Value')\n",
        "plt.title(f'Highest 5 Ordered Products Category')\n",
        "plt.tight_layout()\n",
        "\n",
        "# Displaying the bar plot\n",
        "plt.show()"
      ],
      "metadata": {
        "colab": {
          "base_uri": "https://localhost:8080/",
          "height": 362
        },
        "id": "iigW38K4YClV",
        "outputId": "75e294e2-4d9a-4905-d1be-90776d1d9d16"
      },
      "execution_count": 99,
      "outputs": [
        {
          "output_type": "stream",
          "name": "stderr",
          "text": [
            "<ipython-input-99-09c0b218e35c>:6: MatplotlibDeprecationWarning: The get_cmap function was deprecated in Matplotlib 3.7 and will be removed two minor releases later. Use ``matplotlib.colormaps[name]`` or ``matplotlib.colormaps.get_cmap(obj)`` instead.\n",
            "  cmap = plt.cm.get_cmap('flare')\n"
          ]
        },
        {
          "output_type": "display_data",
          "data": {
            "text/plain": [
              "<Figure size 1000x300 with 1 Axes>"
            ],
            "image/png": "[encoded data removed]"
          },
          "metadata": {}
        }
      ]
    },
    {
      "cell_type": "code",
      "source": [
        "#Objecives 1: Highest and Lowest Ordered Product Categories\n",
        "\n",
        "# Lowest Ordered Product Category\n",
        "# Defining numbers for highest ordered product category\n",
        "lowest_product_cat = cat_product.tail(5)\n",
        "\n",
        "# Making a gradiant color\n",
        "cmap = plt.cm.get_cmap('flare')\n",
        "colors = np.linspace(0.3, 0.1, 5)\n",
        "\n",
        "# Creating the bar plot\n",
        "plt.figure(figsize=(7, 3)) #define the scale of the figure\n",
        "bars = plt.barh(lowest_product_cat.index,\n",
        "                lowest_product_cat.values,\n",
        "                color=cmap(colors)) #creating the bars by assigning the defined value\n",
        "bars[-1].set_color('r')\n",
        "\n",
        "# Annottating the value for each bar\n",
        "for i, v in zip(lowest_product_cat.index, lowest_product_cat.values):\n",
        "    plt.text(v, i, str(v), ha='left', va='center', fontsize=10)\n",
        "\n",
        "# Completing the figure labels\n",
        "plt.xlabel('Product Category')\n",
        "plt.ylabel('Order Value')\n",
        "plt.title(f'Lowest 5 Ordered Products Category')\n",
        "plt.tight_layout()\n",
        "\n",
        "# Displaying the bar plot\n",
        "plt.show()"
      ],
      "metadata": {
        "colab": {
          "base_uri": "https://localhost:8080/",
          "height": 362
        },
        "id": "dwNHAAwSi9hc",
        "outputId": "83257c03-efe5-4370-ab1d-7ad062aceb9d"
      },
      "execution_count": 102,
      "outputs": [
        {
          "output_type": "stream",
          "name": "stderr",
          "text": [
            "<ipython-input-102-e7e7c162d51f>:8: MatplotlibDeprecationWarning: The get_cmap function was deprecated in Matplotlib 3.7 and will be removed two minor releases later. Use ``matplotlib.colormaps[name]`` or ``matplotlib.colormaps.get_cmap(obj)`` instead.\n",
            "  cmap = plt.cm.get_cmap('flare')\n"
          ]
        },
        {
          "output_type": "display_data",
          "data": {
            "text/plain": [
              "<Figure size 700x300 with 1 Axes>"
            ],
            "image/png": "[encoded data removed]"
          },
          "metadata": {}
        }
      ]
    },
    {
      "cell_type": "code",
      "source": [],
      "metadata": {
        "id": "_alf5fdvcJ-G"
      },
      "execution_count": null,
      "outputs": []
    },
    {
      "cell_type": "markdown",
      "source": [
        "# **Objective 2: Highest and Lowest Revenue from Delivered Product**"
      ],
      "metadata": {
        "id": "T-POSJnzG3EE"
      }
    },
    {
      "cell_type": "code",
      "source": [
        "# Calling for the ordered product with \"delivered\" order status\n",
        "\n",
        "delivered_products = df_cleaned.loc[df_cleaned ['order_status'] == 'delivered']\n",
        "\n",
        "delivered_products"
      ],
      "metadata": {
        "id": "W7hrs9s6HvTP",
        "colab": {
          "base_uri": "https://localhost:8080/",
          "height": 424
        },
        "outputId": "8e852773-d77f-4808-e6aa-e945e15c6175"
      },
      "execution_count": 43,
      "outputs": [
        {
          "output_type": "execute_result",
          "data": {
            "text/plain": [
              "                                order_id            product_cat   price  \\\n",
              "0       00010242fe8c5a6d1ba2dd792cb16214             cool_stuff   58.90   \n",
              "1       00018f77f2f0320c557190d7a144bdd3               pet_shop  239.90   \n",
              "2       000229ec398224ef6ca0657da4fc703e        furniture_decor  199.00   \n",
              "4       00042b26cf59d7ce69dfabb4e55b4fd9           garden_tools  199.90   \n",
              "5       00048cc3ae777c65dbb7d2a0634bc1ea             housewares   21.90   \n",
              "...                                  ...                    ...     ...   \n",
              "118305  fffc94f6ce00a00581880bf54a75a037             housewares  299.99   \n",
              "118306  fffcd46ef2263f404302a634eb57f7eb  computers_accessories  350.00   \n",
              "118307  fffce4705a9662cd70adb13d4a31832d         sports_leisure   99.90   \n",
              "118308  fffe18544ffabc95dfada21779c9644f  computers_accessories   55.99   \n",
              "118309  fffe41c64501cc87c801fd61db3f6244         bed_bath_table   43.00   \n",
              "\n",
              "       order_status customer_state  review_score  \n",
              "0         delivered             RJ           5.0  \n",
              "1         delivered             SP           4.0  \n",
              "2         delivered             MG           5.0  \n",
              "4         delivered             SP           5.0  \n",
              "5         delivered             MG           4.0  \n",
              "...             ...            ...           ...  \n",
              "118305    delivered             MA           5.0  \n",
              "118306    delivered             PR           5.0  \n",
              "118307    delivered             SP           5.0  \n",
              "118308    delivered             SP           5.0  \n",
              "118309    delivered             SP           5.0  \n",
              "\n",
              "[87600 rows x 6 columns]"
            ],
            "text/html": [
              "\n",
              "\n",
              "  <div id=\"df-4e352703-7bdb-4462-b454-8444d094c75c\">\n",
              "    <div class=\"colab-df-container\">\n",
              "      <div>\n",
              "<style scoped>\n",
              "    .dataframe tbody tr th:only-of-type {\n",
              "        vertical-align: middle;\n",
              "    }\n",
              "\n",
              "    .dataframe tbody tr th {\n",
              "        vertical-align: top;\n",
              "    }\n",
              "\n",
              "    .dataframe thead th {\n",
              "        text-align: right;\n",
              "    }\n",
              "</style>\n",
              "<table border=\"1\" class=\"dataframe\">\n",
              "  <thead>\n",
              "    <tr style=\"text-align: right;\">\n",
              "      <th></th>\n",
              "      <th>order_id</th>\n",
              "      <th>product_cat</th>\n",
              "      <th>price</th>\n",
              "      <th>order_status</th>\n",
              "      <th>customer_state</th>\n",
              "      <th>review_score</th>\n",
              "    </tr>\n",
              "  </thead>\n",
              "  <tbody>\n",
              "    <tr>\n",
              "      <th>0</th>\n",
              "      <td>00010242fe8c5a6d1ba2dd792cb16214</td>\n",
              "      <td>cool_stuff</td>\n",
              "      <td>58.90</td>\n",
              "      <td>delivered</td>\n",
              "      <td>RJ</td>\n",
              "      <td>5.0</td>\n",
              "    </tr>\n",
              "    <tr>\n",
              "      <th>1</th>\n",
              "      <td>00018f77f2f0320c557190d7a144bdd3</td>\n",
              "      <td>pet_shop</td>\n",
              "      <td>239.90</td>\n",
              "      <td>delivered</td>\n",
              "      <td>SP</td>\n",
              "      <td>4.0</td>\n",
              "    </tr>\n",
              "    <tr>\n",
              "      <th>2</th>\n",
              "      <td>000229ec398224ef6ca0657da4fc703e</td>\n",
              "      <td>furniture_decor</td>\n",
              "      <td>199.00</td>\n",
              "      <td>delivered</td>\n",
              "      <td>MG</td>\n",
              "      <td>5.0</td>\n",
              "    </tr>\n",
              "    <tr>\n",
              "      <th>4</th>\n",
              "      <td>00042b26cf59d7ce69dfabb4e55b4fd9</td>\n",
              "      <td>garden_tools</td>\n",
              "      <td>199.90</td>\n",
              "      <td>delivered</td>\n",
              "      <td>SP</td>\n",
              "      <td>5.0</td>\n",
              "    </tr>\n",
              "    <tr>\n",
              "      <th>5</th>\n",
              "      <td>00048cc3ae777c65dbb7d2a0634bc1ea</td>\n",
              "      <td>housewares</td>\n",
              "      <td>21.90</td>\n",
              "      <td>delivered</td>\n",
              "      <td>MG</td>\n",
              "      <td>4.0</td>\n",
              "    </tr>\n",
              "    <tr>\n",
              "      <th>...</th>\n",
              "      <td>...</td>\n",
              "      <td>...</td>\n",
              "      <td>...</td>\n",
              "      <td>...</td>\n",
              "      <td>...</td>\n",
              "      <td>...</td>\n",
              "    </tr>\n",
              "    <tr>\n",
              "      <th>118305</th>\n",
              "      <td>fffc94f6ce00a00581880bf54a75a037</td>\n",
              "      <td>housewares</td>\n",
              "      <td>299.99</td>\n",
              "      <td>delivered</td>\n",
              "      <td>MA</td>\n",
              "      <td>5.0</td>\n",
              "    </tr>\n",
              "    <tr>\n",
              "      <th>118306</th>\n",
              "      <td>fffcd46ef2263f404302a634eb57f7eb</td>\n",
              "      <td>computers_accessories</td>\n",
              "      <td>350.00</td>\n",
              "      <td>delivered</td>\n",
              "      <td>PR</td>\n",
              "      <td>5.0</td>\n",
              "    </tr>\n",
              "    <tr>\n",
              "      <th>118307</th>\n",
              "      <td>fffce4705a9662cd70adb13d4a31832d</td>\n",
              "      <td>sports_leisure</td>\n",
              "      <td>99.90</td>\n",
              "      <td>delivered</td>\n",
              "      <td>SP</td>\n",
              "      <td>5.0</td>\n",
              "    </tr>\n",
              "    <tr>\n",
              "      <th>118308</th>\n",
              "      <td>fffe18544ffabc95dfada21779c9644f</td>\n",
              "      <td>computers_accessories</td>\n",
              "      <td>55.99</td>\n",
              "      <td>delivered</td>\n",
              "      <td>SP</td>\n",
              "      <td>5.0</td>\n",
              "    </tr>\n",
              "    <tr>\n",
              "      <th>118309</th>\n",
              "      <td>fffe41c64501cc87c801fd61db3f6244</td>\n",
              "      <td>bed_bath_table</td>\n",
              "      <td>43.00</td>\n",
              "      <td>delivered</td>\n",
              "      <td>SP</td>\n",
              "      <td>5.0</td>\n",
              "    </tr>\n",
              "  </tbody>\n",
              "</table>\n",
              "<p>87600 rows × 6 columns</p>\n",
              "</div>\n",
              "      <button class=\"colab-df-convert\" onclick=\"convertToInteractive('df-4e352703-7bdb-4462-b454-8444d094c75c')\"\n",
              "              title=\"Convert this dataframe to an interactive table.\"\n",
              "              style=\"display:none;\">\n",
              "\n",
              "  <svg xmlns=\"http://www.w3.org/2000/svg\" height=\"24px\"viewBox=\"0 0 24 24\"\n",
              "       width=\"24px\">\n",
              "    <path d=\"M0 0h24v24H0V0z\" fill=\"none\"/>\n",
              "    <path d=\"M18.56 5.44l.94 2.06.94-2.06 2.06-.94-2.06-.94-.94-2.06-.94 2.06-2.06.94zm-11 1L8.5 8.5l.94-2.06 2.06-.94-2.06-.94L8.5 2.5l-.94 2.06-2.06.94zm10 10l.94 2.06.94-2.06 2.06-.94-2.06-.94-.94-2.06-.94 2.06-2.06.94z\"/><path d=\"M17.41 7.96l-1.37-1.37c-.4-.4-.92-.59-1.43-.59-.52 0-1.04.2-1.43.59L10.3 9.45l-7.72 7.72c-.78.78-.78 2.05 0 2.83L4 21.41c.39.39.9.59 1.41.59.51 0 1.02-.2 1.41-.59l7.78-7.78 2.81-2.81c.8-.78.8-2.07 0-2.86zM5.41 20L4 18.59l7.72-7.72 1.47 1.35L5.41 20z\"/>\n",
              "  </svg>\n",
              "      </button>\n",
              "\n",
              "\n",
              "\n",
              "    <div id=\"df-10476c07-5692-4249-a22c-e7deddbabbdd\">\n",
              "      <button class=\"colab-df-quickchart\" onclick=\"quickchart('df-10476c07-5692-4249-a22c-e7deddbabbdd')\"\n",
              "              title=\"Suggest charts.\"\n",
              "              style=\"display:none;\">\n",
              "\n",
              "<svg xmlns=\"http://www.w3.org/2000/svg\" height=\"24px\"viewBox=\"0 0 24 24\"\n",
              "     width=\"24px\">\n",
              "    <g>\n",
              "        <path d=\"M19 3H5c-1.1 0-2 .9-2 2v14c0 1.1.9 2 2 2h14c1.1 0 2-.9 2-2V5c0-1.1-.9-2-2-2zM9 17H7v-7h2v7zm4 0h-2V7h2v10zm4 0h-2v-4h2v4z\"/>\n",
              "    </g>\n",
              "</svg>\n",
              "      </button>\n",
              "    </div>\n",
              "\n",
              "<style>\n",
              "  .colab-df-quickchart {\n",
              "    background-color: #E8F0FE;\n",
              "    border: none;\n",
              "    border-radius: 50%;\n",
              "    cursor: pointer;\n",
              "    display: none;\n",
              "    fill: #1967D2;\n",
              "    height: 32px;\n",
              "    padding: 0 0 0 0;\n",
              "    width: 32px;\n",
              "  }\n",
              "\n",
              "  .colab-df-quickchart:hover {\n",
              "    background-color: #E2EBFA;\n",
              "    box-shadow: 0px 1px 2px rgba(60, 64, 67, 0.3), 0px 1px 3px 1px rgba(60, 64, 67, 0.15);\n",
              "    fill: #174EA6;\n",
              "  }\n",
              "\n",
              "  [theme=dark] .colab-df-quickchart {\n",
              "    background-color: #3B4455;\n",
              "    fill: #D2E3FC;\n",
              "  }\n",
              "\n",
              "  [theme=dark] .colab-df-quickchart:hover {\n",
              "    background-color: #434B5C;\n",
              "    box-shadow: 0px 1px 3px 1px rgba(0, 0, 0, 0.15);\n",
              "    filter: drop-shadow(0px 1px 2px rgba(0, 0, 0, 0.3));\n",
              "    fill: #FFFFFF;\n",
              "  }\n",
              "</style>\n",
              "\n",
              "    <script>\n",
              "      async function quickchart(key) {\n",
              "        const containerElement = document.querySelector('#' + key);\n",
              "        const charts = await google.colab.kernel.invokeFunction(\n",
              "            'suggestCharts', [key], {});\n",
              "      }\n",
              "    </script>\n",
              "\n",
              "      <script>\n",
              "\n",
              "function displayQuickchartButton(domScope) {\n",
              "  let quickchartButtonEl =\n",
              "    domScope.querySelector('#df-10476c07-5692-4249-a22c-e7deddbabbdd button.colab-df-quickchart');\n",
              "  quickchartButtonEl.style.display =\n",
              "    google.colab.kernel.accessAllowed ? 'block' : 'none';\n",
              "}\n",
              "\n",
              "        displayQuickchartButton(document);\n",
              "      </script>\n",
              "      <style>\n",
              "    .colab-df-container {\n",
              "      display:flex;\n",
              "      flex-wrap:wrap;\n",
              "      gap: 12px;\n",
              "    }\n",
              "\n",
              "    .colab-df-convert {\n",
              "      background-color: #E8F0FE;\n",
              "      border: none;\n",
              "      border-radius: 50%;\n",
              "      cursor: pointer;\n",
              "      display: none;\n",
              "      fill: #1967D2;\n",
              "      height: 32px;\n",
              "      padding: 0 0 0 0;\n",
              "      width: 32px;\n",
              "    }\n",
              "\n",
              "    .colab-df-convert:hover {\n",
              "      background-color: #E2EBFA;\n",
              "      box-shadow: 0px 1px 2px rgba(60, 64, 67, 0.3), 0px 1px 3px 1px rgba(60, 64, 67, 0.15);\n",
              "      fill: #174EA6;\n",
              "    }\n",
              "\n",
              "    [theme=dark] .colab-df-convert {\n",
              "      background-color: #3B4455;\n",
              "      fill: #D2E3FC;\n",
              "    }\n",
              "\n",
              "    [theme=dark] .colab-df-convert:hover {\n",
              "      background-color: #434B5C;\n",
              "      box-shadow: 0px 1px 3px 1px rgba(0, 0, 0, 0.15);\n",
              "      filter: drop-shadow(0px 1px 2px rgba(0, 0, 0, 0.3));\n",
              "      fill: #FFFFFF;\n",
              "    }\n",
              "  </style>\n",
              "\n",
              "      <script>\n",
              "        const buttonEl =\n",
              "          document.querySelector('#df-4e352703-7bdb-4462-b454-8444d094c75c button.colab-df-convert');\n",
              "        buttonEl.style.display =\n",
              "          google.colab.kernel.accessAllowed ? 'block' : 'none';\n",
              "\n",
              "        async function convertToInteractive(key) {\n",
              "          const element = document.querySelector('#df-4e352703-7bdb-4462-b454-8444d094c75c');\n",
              "          const dataTable =\n",
              "            await google.colab.kernel.invokeFunction('convertToInteractive',\n",
              "                                                     [key], {});\n",
              "          if (!dataTable) return;\n",
              "\n",
              "          const docLinkHtml = 'Like what you see? Visit the ' +\n",
              "            '<a target=\"_blank\" href=https://colab.research.google.com/notebooks/data_table.ipynb>data table notebook</a>'\n",
              "            + ' to learn more about interactive tables.';\n",
              "          element.innerHTML = '';\n",
              "          dataTable['output_type'] = 'display_data';\n",
              "          await google.colab.output.renderOutput(dataTable, element);\n",
              "          const docLink = document.createElement('div');\n",
              "          docLink.innerHTML = docLinkHtml;\n",
              "          element.appendChild(docLink);\n",
              "        }\n",
              "      </script>\n",
              "    </div>\n",
              "  </div>\n"
            ]
          },
          "metadata": {},
          "execution_count": 43
        }
      ]
    },
    {
      "cell_type": "code",
      "source": [
        "#Sum up the price per cateogry product to calculate the revenue\n",
        "\n",
        "net_revenue = delivered_products.groupby('product_cat')['price'].sum().sort_values(ascending = False)\n",
        "\n",
        "# # net_revenue\n",
        "pd.DataFrame(net_revenue)"
      ],
      "metadata": {
        "colab": {
          "base_uri": "https://localhost:8080/",
          "height": 455
        },
        "id": "qyTeTuUVwASU",
        "outputId": "67999fd3-4685-4e8d-8d2f-f08f7abddcd5"
      },
      "execution_count": 44,
      "outputs": [
        {
          "output_type": "execute_result",
          "data": {
            "text/plain": [
              "                               price\n",
              "product_cat                         \n",
              "bed_bath_table             863340.03\n",
              "health_beauty              779994.06\n",
              "sports_leisure             700197.71\n",
              "watches_gifts              631578.42\n",
              "computers_accessories      607147.13\n",
              "...                              ...\n",
              "cds_dvds_musicals             640.00\n",
              "fashion_childrens_clothes     519.95\n",
              "home_comfort_2                424.87\n",
              "security_and_services         283.29\n",
              "computers                      34.50\n",
              "\n",
              "[71 rows x 1 columns]"
            ],
            "text/html": [
              "\n",
              "\n",
              "  <div id=\"df-f84f22f5-ca06-458b-9db9-46f7bbc72e17\">\n",
              "    <div class=\"colab-df-container\">\n",
              "      <div>\n",
              "<style scoped>\n",
              "    .dataframe tbody tr th:only-of-type {\n",
              "        vertical-align: middle;\n",
              "    }\n",
              "\n",
              "    .dataframe tbody tr th {\n",
              "        vertical-align: top;\n",
              "    }\n",
              "\n",
              "    .dataframe thead th {\n",
              "        text-align: right;\n",
              "    }\n",
              "</style>\n",
              "<table border=\"1\" class=\"dataframe\">\n",
              "  <thead>\n",
              "    <tr style=\"text-align: right;\">\n",
              "      <th></th>\n",
              "      <th>price</th>\n",
              "    </tr>\n",
              "    <tr>\n",
              "      <th>product_cat</th>\n",
              "      <th></th>\n",
              "    </tr>\n",
              "  </thead>\n",
              "  <tbody>\n",
              "    <tr>\n",
              "      <th>bed_bath_table</th>\n",
              "      <td>863340.03</td>\n",
              "    </tr>\n",
              "    <tr>\n",
              "      <th>health_beauty</th>\n",
              "      <td>779994.06</td>\n",
              "    </tr>\n",
              "    <tr>\n",
              "      <th>sports_leisure</th>\n",
              "      <td>700197.71</td>\n",
              "    </tr>\n",
              "    <tr>\n",
              "      <th>watches_gifts</th>\n",
              "      <td>631578.42</td>\n",
              "    </tr>\n",
              "    <tr>\n",
              "      <th>computers_accessories</th>\n",
              "      <td>607147.13</td>\n",
              "    </tr>\n",
              "    <tr>\n",
              "      <th>...</th>\n",
              "      <td>...</td>\n",
              "    </tr>\n",
              "    <tr>\n",
              "      <th>cds_dvds_musicals</th>\n",
              "      <td>640.00</td>\n",
              "    </tr>\n",
              "    <tr>\n",
              "      <th>fashion_childrens_clothes</th>\n",
              "      <td>519.95</td>\n",
              "    </tr>\n",
              "    <tr>\n",
              "      <th>home_comfort_2</th>\n",
              "      <td>424.87</td>\n",
              "    </tr>\n",
              "    <tr>\n",
              "      <th>security_and_services</th>\n",
              "      <td>283.29</td>\n",
              "    </tr>\n",
              "    <tr>\n",
              "      <th>computers</th>\n",
              "      <td>34.50</td>\n",
              "    </tr>\n",
              "  </tbody>\n",
              "</table>\n",
              "<p>71 rows × 1 columns</p>\n",
              "</div>\n",
              "      <button class=\"colab-df-convert\" onclick=\"convertToInteractive('df-f84f22f5-ca06-458b-9db9-46f7bbc72e17')\"\n",
              "              title=\"Convert this dataframe to an interactive table.\"\n",
              "              style=\"display:none;\">\n",
              "\n",
              "  <svg xmlns=\"http://www.w3.org/2000/svg\" height=\"24px\"viewBox=\"0 0 24 24\"\n",
              "       width=\"24px\">\n",
              "    <path d=\"M0 0h24v24H0V0z\" fill=\"none\"/>\n",
              "    <path d=\"M18.56 5.44l.94 2.06.94-2.06 2.06-.94-2.06-.94-.94-2.06-.94 2.06-2.06.94zm-11 1L8.5 8.5l.94-2.06 2.06-.94-2.06-.94L8.5 2.5l-.94 2.06-2.06.94zm10 10l.94 2.06.94-2.06 2.06-.94-2.06-.94-.94-2.06-.94 2.06-2.06.94z\"/><path d=\"M17.41 7.96l-1.37-1.37c-.4-.4-.92-.59-1.43-.59-.52 0-1.04.2-1.43.59L10.3 9.45l-7.72 7.72c-.78.78-.78 2.05 0 2.83L4 21.41c.39.39.9.59 1.41.59.51 0 1.02-.2 1.41-.59l7.78-7.78 2.81-2.81c.8-.78.8-2.07 0-2.86zM5.41 20L4 18.59l7.72-7.72 1.47 1.35L5.41 20z\"/>\n",
              "  </svg>\n",
              "      </button>\n",
              "\n",
              "\n",
              "\n",
              "    <div id=\"df-b4dbd8d3-4a87-4219-8304-f2ce2416f714\">\n",
              "      <button class=\"colab-df-quickchart\" onclick=\"quickchart('df-b4dbd8d3-4a87-4219-8304-f2ce2416f714')\"\n",
              "              title=\"Suggest charts.\"\n",
              "              style=\"display:none;\">\n",
              "\n",
              "<svg xmlns=\"http://www.w3.org/2000/svg\" height=\"24px\"viewBox=\"0 0 24 24\"\n",
              "     width=\"24px\">\n",
              "    <g>\n",
              "        <path d=\"M19 3H5c-1.1 0-2 .9-2 2v14c0 1.1.9 2 2 2h14c1.1 0 2-.9 2-2V5c0-1.1-.9-2-2-2zM9 17H7v-7h2v7zm4 0h-2V7h2v10zm4 0h-2v-4h2v4z\"/>\n",
              "    </g>\n",
              "</svg>\n",
              "      </button>\n",
              "    </div>\n",
              "\n",
              "<style>\n",
              "  .colab-df-quickchart {\n",
              "    background-color: #E8F0FE;\n",
              "    border: none;\n",
              "    border-radius: 50%;\n",
              "    cursor: pointer;\n",
              "    display: none;\n",
              "    fill: #1967D2;\n",
              "    height: 32px;\n",
              "    padding: 0 0 0 0;\n",
              "    width: 32px;\n",
              "  }\n",
              "\n",
              "  .colab-df-quickchart:hover {\n",
              "    background-color: #E2EBFA;\n",
              "    box-shadow: 0px 1px 2px rgba(60, 64, 67, 0.3), 0px 1px 3px 1px rgba(60, 64, 67, 0.15);\n",
              "    fill: #174EA6;\n",
              "  }\n",
              "\n",
              "  [theme=dark] .colab-df-quickchart {\n",
              "    background-color: #3B4455;\n",
              "    fill: #D2E3FC;\n",
              "  }\n",
              "\n",
              "  [theme=dark] .colab-df-quickchart:hover {\n",
              "    background-color: #434B5C;\n",
              "    box-shadow: 0px 1px 3px 1px rgba(0, 0, 0, 0.15);\n",
              "    filter: drop-shadow(0px 1px 2px rgba(0, 0, 0, 0.3));\n",
              "    fill: #FFFFFF;\n",
              "  }\n",
              "</style>\n",
              "\n",
              "    <script>\n",
              "      async function quickchart(key) {\n",
              "        const containerElement = document.querySelector('#' + key);\n",
              "        const charts = await google.colab.kernel.invokeFunction(\n",
              "            'suggestCharts', [key], {});\n",
              "      }\n",
              "    </script>\n",
              "\n",
              "      <script>\n",
              "\n",
              "function displayQuickchartButton(domScope) {\n",
              "  let quickchartButtonEl =\n",
              "    domScope.querySelector('#df-b4dbd8d3-4a87-4219-8304-f2ce2416f714 button.colab-df-quickchart');\n",
              "  quickchartButtonEl.style.display =\n",
              "    google.colab.kernel.accessAllowed ? 'block' : 'none';\n",
              "}\n",
              "\n",
              "        displayQuickchartButton(document);\n",
              "      </script>\n",
              "      <style>\n",
              "    .colab-df-container {\n",
              "      display:flex;\n",
              "      flex-wrap:wrap;\n",
              "      gap: 12px;\n",
              "    }\n",
              "\n",
              "    .colab-df-convert {\n",
              "      background-color: #E8F0FE;\n",
              "      border: none;\n",
              "      border-radius: 50%;\n",
              "      cursor: pointer;\n",
              "      display: none;\n",
              "      fill: #1967D2;\n",
              "      height: 32px;\n",
              "      padding: 0 0 0 0;\n",
              "      width: 32px;\n",
              "    }\n",
              "\n",
              "    .colab-df-convert:hover {\n",
              "      background-color: #E2EBFA;\n",
              "      box-shadow: 0px 1px 2px rgba(60, 64, 67, 0.3), 0px 1px 3px 1px rgba(60, 64, 67, 0.15);\n",
              "      fill: #174EA6;\n",
              "    }\n",
              "\n",
              "    [theme=dark] .colab-df-convert {\n",
              "      background-color: #3B4455;\n",
              "      fill: #D2E3FC;\n",
              "    }\n",
              "\n",
              "    [theme=dark] .colab-df-convert:hover {\n",
              "      background-color: #434B5C;\n",
              "      box-shadow: 0px 1px 3px 1px rgba(0, 0, 0, 0.15);\n",
              "      filter: drop-shadow(0px 1px 2px rgba(0, 0, 0, 0.3));\n",
              "      fill: #FFFFFF;\n",
              "    }\n",
              "  </style>\n",
              "\n",
              "      <script>\n",
              "        const buttonEl =\n",
              "          document.querySelector('#df-f84f22f5-ca06-458b-9db9-46f7bbc72e17 button.colab-df-convert');\n",
              "        buttonEl.style.display =\n",
              "          google.colab.kernel.accessAllowed ? 'block' : 'none';\n",
              "\n",
              "        async function convertToInteractive(key) {\n",
              "          const element = document.querySelector('#df-f84f22f5-ca06-458b-9db9-46f7bbc72e17');\n",
              "          const dataTable =\n",
              "            await google.colab.kernel.invokeFunction('convertToInteractive',\n",
              "                                                     [key], {});\n",
              "          if (!dataTable) return;\n",
              "\n",
              "          const docLinkHtml = 'Like what you see? Visit the ' +\n",
              "            '<a target=\"_blank\" href=https://colab.research.google.com/notebooks/data_table.ipynb>data table notebook</a>'\n",
              "            + ' to learn more about interactive tables.';\n",
              "          element.innerHTML = '';\n",
              "          dataTable['output_type'] = 'display_data';\n",
              "          await google.colab.output.renderOutput(dataTable, element);\n",
              "          const docLink = document.createElement('div');\n",
              "          docLink.innerHTML = docLinkHtml;\n",
              "          element.appendChild(docLink);\n",
              "        }\n",
              "      </script>\n",
              "    </div>\n",
              "  </div>\n"
            ]
          },
          "metadata": {},
          "execution_count": 44
        }
      ]
    },
    {
      "cell_type": "code",
      "source": [
        "#Visualisizing the highets revenue per product category\n",
        "\n",
        "# Defining numbers for highest revenue per product category\n",
        "highest_rev =net_revenue.head(5).sort_values()\n",
        "\n",
        "# Defining the colour map for color of the bars\n",
        "cmap = plt.cm.get_cmap('flare')\n",
        "\n",
        "# Creating a gradiant colour based on numbers for highest revenue per product category\n",
        "colors = np.linspace(0.3, 1, 5)\n",
        "\n",
        "# Creating the bar plot\n",
        "plt.figure(figsize=(10, 3)) #define the scale of the figure\n",
        "bars = plt.barh(highest_rev.index,\n",
        "                highest_rev.values,\n",
        "                color=cmap(colors)) #creating the bars by assigning the defined value\n",
        "\n",
        "# Annottating the value for each bar\n",
        "for i, v in zip(highest_rev.index, highest_rev.values):\n",
        "    plt.text(v, i, int(v), ha= 'left', va='center', fontsize=8)\n",
        "\n",
        "# Completing the figure labels\n",
        "plt.xlabel('Revenue Value')\n",
        "plt.ylabel('Product Category')\n",
        "plt.title(f'Highest Revenue per Products Category')\n",
        "plt.tight_layout()\n",
        "\n",
        "# Displaying the bar plot\n",
        "plt.show()"
      ],
      "metadata": {
        "colab": {
          "base_uri": "https://localhost:8080/",
          "height": 362
        },
        "id": "pkVd2ThC14v9",
        "outputId": "a8cdfe02-3f6b-4b59-c822-e6577e9527b8"
      },
      "execution_count": 97,
      "outputs": [
        {
          "output_type": "stream",
          "name": "stderr",
          "text": [
            "<ipython-input-97-8deb681122eb>:7: MatplotlibDeprecationWarning: The get_cmap function was deprecated in Matplotlib 3.7 and will be removed two minor releases later. Use ``matplotlib.colormaps[name]`` or ``matplotlib.colormaps.get_cmap(obj)`` instead.\n",
            "  cmap = plt.cm.get_cmap('flare')\n"
          ]
        },
        {
          "output_type": "display_data",
          "data": {
            "text/plain": [
              "<Figure size 1000x300 with 1 Axes>"
            ],
            "image/png": "[encoded data removed]"
          },
          "metadata": {}
        }
      ]
    },
    {
      "cell_type": "code",
      "source": [
        "# Defining numbers for highest revenue per product category\n",
        "highest_rev =net_revenue.tail(5)\n",
        "\n",
        "# Making a gradiant color\n",
        "cmap = plt.cm.get_cmap('flare')\n",
        "colors = np.linspace(0.3, 0.1, 5)\n",
        "\n",
        "# Creating the bar plot\n",
        "plt.figure(figsize=(10, 3)) #define the scale of the figure\n",
        "bars = plt.barh(highest_rev.index,\n",
        "                highest_rev.values,\n",
        "                color=cmap(colors)) #creating the bars by assigning the defined value\n",
        "bars[-1].set_color('r') #distincts the lowest revenue\n",
        "\n",
        "# Annottating the value for each bar\n",
        "for i, v in zip(highest_rev.index, highest_rev.values):\n",
        "    plt.text(v, i, int(v), ha= 'left', va='center', fontsize=8)\n",
        "\n",
        "# Completing the figure labels\n",
        "plt.xlabel('Revenue Value')\n",
        "plt.ylabel('Product Category')\n",
        "plt.title(f'Lowest Revenue per Products Category')\n",
        "plt.tight_layout()\n",
        "\n",
        "# Displaying the bar plot\n",
        "plt.show()"
      ],
      "metadata": {
        "colab": {
          "base_uri": "https://localhost:8080/",
          "height": 362
        },
        "id": "ZbF2zPzrXmmX",
        "outputId": "b4e2ef0f-eacd-4161-9950-32b9dd57ffb8"
      },
      "execution_count": 103,
      "outputs": [
        {
          "output_type": "stream",
          "name": "stderr",
          "text": [
            "<ipython-input-103-97952ddf2a54>:5: MatplotlibDeprecationWarning: The get_cmap function was deprecated in Matplotlib 3.7 and will be removed two minor releases later. Use ``matplotlib.colormaps[name]`` or ``matplotlib.colormaps.get_cmap(obj)`` instead.\n",
            "  cmap = plt.cm.get_cmap('flare')\n"
          ]
        },
        {
          "output_type": "display_data",
          "data": {
            "text/plain": [
              "<Figure size 1000x300 with 1 Axes>"
            ],
            "image/png": "[encoded data removed]"
          },
          "metadata": {}
        }
      ]
    },
    {
      "cell_type": "code",
      "source": [],
      "metadata": {
        "id": "i2rJPgZub0DJ"
      },
      "execution_count": null,
      "outputs": []
    },
    {
      "cell_type": "code",
      "source": [],
      "metadata": {
        "id": "dPMEpOlyb0cw"
      },
      "execution_count": null,
      "outputs": []
    },
    {
      "cell_type": "markdown",
      "source": [
        "# **Objective 3: Unavailable and Most Cancelled Product**"
      ],
      "metadata": {
        "id": "rkc5b_2zHMwG"
      }
    },
    {
      "cell_type": "code",
      "source": [
        "#Looking for most unavailable products:\n",
        "unavailable_products = df_cleaned[df_cleaned['order_status']=='unavailable'].groupby('product_cat')['order_status'].count()\n",
        "\n",
        "pd.DataFrame(unavailable_products) #previewing tha data\n",
        "# unavailable_products.sum() > to sum up the count of the unavailable product"
      ],
      "metadata": {
        "colab": {
          "base_uri": "https://localhost:8080/",
          "height": 206
        },
        "id": "pemhxRY8yG1o",
        "outputId": "eab062bc-ccc8-44b8-b96a-61f3e9e9aeaf"
      },
      "execution_count": 52,
      "outputs": [
        {
          "output_type": "execute_result",
          "data": {
            "text/plain": [
              "             order_status\n",
              "product_cat              \n",
              "auto                    1\n",
              "baby                    2\n",
              "cool_stuff              1\n",
              "perfumery               2"
            ],
            "text/html": [
              "\n",
              "\n",
              "  <div id=\"df-cf127dae-9c9f-417a-8d7d-0f91d2818618\">\n",
              "    <div class=\"colab-df-container\">\n",
              "      <div>\n",
              "<style scoped>\n",
              "    .dataframe tbody tr th:only-of-type {\n",
              "        vertical-align: middle;\n",
              "    }\n",
              "\n",
              "    .dataframe tbody tr th {\n",
              "        vertical-align: top;\n",
              "    }\n",
              "\n",
              "    .dataframe thead th {\n",
              "        text-align: right;\n",
              "    }\n",
              "</style>\n",
              "<table border=\"1\" class=\"dataframe\">\n",
              "  <thead>\n",
              "    <tr style=\"text-align: right;\">\n",
              "      <th></th>\n",
              "      <th>order_status</th>\n",
              "    </tr>\n",
              "    <tr>\n",
              "      <th>product_cat</th>\n",
              "      <th></th>\n",
              "    </tr>\n",
              "  </thead>\n",
              "  <tbody>\n",
              "    <tr>\n",
              "      <th>auto</th>\n",
              "      <td>1</td>\n",
              "    </tr>\n",
              "    <tr>\n",
              "      <th>baby</th>\n",
              "      <td>2</td>\n",
              "    </tr>\n",
              "    <tr>\n",
              "      <th>cool_stuff</th>\n",
              "      <td>1</td>\n",
              "    </tr>\n",
              "    <tr>\n",
              "      <th>perfumery</th>\n",
              "      <td>2</td>\n",
              "    </tr>\n",
              "  </tbody>\n",
              "</table>\n",
              "</div>\n",
              "      <button class=\"colab-df-convert\" onclick=\"convertToInteractive('df-cf127dae-9c9f-417a-8d7d-0f91d2818618')\"\n",
              "              title=\"Convert this dataframe to an interactive table.\"\n",
              "              style=\"display:none;\">\n",
              "\n",
              "  <svg xmlns=\"http://www.w3.org/2000/svg\" height=\"24px\"viewBox=\"0 0 24 24\"\n",
              "       width=\"24px\">\n",
              "    <path d=\"M0 0h24v24H0V0z\" fill=\"none\"/>\n",
              "    <path d=\"M18.56 5.44l.94 2.06.94-2.06 2.06-.94-2.06-.94-.94-2.06-.94 2.06-2.06.94zm-11 1L8.5 8.5l.94-2.06 2.06-.94-2.06-.94L8.5 2.5l-.94 2.06-2.06.94zm10 10l.94 2.06.94-2.06 2.06-.94-2.06-.94-.94-2.06-.94 2.06-2.06.94z\"/><path d=\"M17.41 7.96l-1.37-1.37c-.4-.4-.92-.59-1.43-.59-.52 0-1.04.2-1.43.59L10.3 9.45l-7.72 7.72c-.78.78-.78 2.05 0 2.83L4 21.41c.39.39.9.59 1.41.59.51 0 1.02-.2 1.41-.59l7.78-7.78 2.81-2.81c.8-.78.8-2.07 0-2.86zM5.41 20L4 18.59l7.72-7.72 1.47 1.35L5.41 20z\"/>\n",
              "  </svg>\n",
              "      </button>\n",
              "\n",
              "\n",
              "\n",
              "    <div id=\"df-3eab1720-b21f-4b71-b96d-0cd8546d9984\">\n",
              "      <button class=\"colab-df-quickchart\" onclick=\"quickchart('df-3eab1720-b21f-4b71-b96d-0cd8546d9984')\"\n",
              "              title=\"Suggest charts.\"\n",
              "              style=\"display:none;\">\n",
              "\n",
              "<svg xmlns=\"http://www.w3.org/2000/svg\" height=\"24px\"viewBox=\"0 0 24 24\"\n",
              "     width=\"24px\">\n",
              "    <g>\n",
              "        <path d=\"M19 3H5c-1.1 0-2 .9-2 2v14c0 1.1.9 2 2 2h14c1.1 0 2-.9 2-2V5c0-1.1-.9-2-2-2zM9 17H7v-7h2v7zm4 0h-2V7h2v10zm4 0h-2v-4h2v4z\"/>\n",
              "    </g>\n",
              "</svg>\n",
              "      </button>\n",
              "    </div>\n",
              "\n",
              "<style>\n",
              "  .colab-df-quickchart {\n",
              "    background-color: #E8F0FE;\n",
              "    border: none;\n",
              "    border-radius: 50%;\n",
              "    cursor: pointer;\n",
              "    display: none;\n",
              "    fill: #1967D2;\n",
              "    height: 32px;\n",
              "    padding: 0 0 0 0;\n",
              "    width: 32px;\n",
              "  }\n",
              "\n",
              "  .colab-df-quickchart:hover {\n",
              "    background-color: #E2EBFA;\n",
              "    box-shadow: 0px 1px 2px rgba(60, 64, 67, 0.3), 0px 1px 3px 1px rgba(60, 64, 67, 0.15);\n",
              "    fill: #174EA6;\n",
              "  }\n",
              "\n",
              "  [theme=dark] .colab-df-quickchart {\n",
              "    background-color: #3B4455;\n",
              "    fill: #D2E3FC;\n",
              "  }\n",
              "\n",
              "  [theme=dark] .colab-df-quickchart:hover {\n",
              "    background-color: #434B5C;\n",
              "    box-shadow: 0px 1px 3px 1px rgba(0, 0, 0, 0.15);\n",
              "    filter: drop-shadow(0px 1px 2px rgba(0, 0, 0, 0.3));\n",
              "    fill: #FFFFFF;\n",
              "  }\n",
              "</style>\n",
              "\n",
              "    <script>\n",
              "      async function quickchart(key) {\n",
              "        const containerElement = document.querySelector('#' + key);\n",
              "        const charts = await google.colab.kernel.invokeFunction(\n",
              "            'suggestCharts', [key], {});\n",
              "      }\n",
              "    </script>\n",
              "\n",
              "      <script>\n",
              "\n",
              "function displayQuickchartButton(domScope) {\n",
              "  let quickchartButtonEl =\n",
              "    domScope.querySelector('#df-3eab1720-b21f-4b71-b96d-0cd8546d9984 button.colab-df-quickchart');\n",
              "  quickchartButtonEl.style.display =\n",
              "    google.colab.kernel.accessAllowed ? 'block' : 'none';\n",
              "}\n",
              "\n",
              "        displayQuickchartButton(document);\n",
              "      </script>\n",
              "      <style>\n",
              "    .colab-df-container {\n",
              "      display:flex;\n",
              "      flex-wrap:wrap;\n",
              "      gap: 12px;\n",
              "    }\n",
              "\n",
              "    .colab-df-convert {\n",
              "      background-color: #E8F0FE;\n",
              "      border: none;\n",
              "      border-radius: 50%;\n",
              "      cursor: pointer;\n",
              "      display: none;\n",
              "      fill: #1967D2;\n",
              "      height: 32px;\n",
              "      padding: 0 0 0 0;\n",
              "      width: 32px;\n",
              "    }\n",
              "\n",
              "    .colab-df-convert:hover {\n",
              "      background-color: #E2EBFA;\n",
              "      box-shadow: 0px 1px 2px rgba(60, 64, 67, 0.3), 0px 1px 3px 1px rgba(60, 64, 67, 0.15);\n",
              "      fill: #174EA6;\n",
              "    }\n",
              "\n",
              "    [theme=dark] .colab-df-convert {\n",
              "      background-color: #3B4455;\n",
              "      fill: #D2E3FC;\n",
              "    }\n",
              "\n",
              "    [theme=dark] .colab-df-convert:hover {\n",
              "      background-color: #434B5C;\n",
              "      box-shadow: 0px 1px 3px 1px rgba(0, 0, 0, 0.15);\n",
              "      filter: drop-shadow(0px 1px 2px rgba(0, 0, 0, 0.3));\n",
              "      fill: #FFFFFF;\n",
              "    }\n",
              "  </style>\n",
              "\n",
              "      <script>\n",
              "        const buttonEl =\n",
              "          document.querySelector('#df-cf127dae-9c9f-417a-8d7d-0f91d2818618 button.colab-df-convert');\n",
              "        buttonEl.style.display =\n",
              "          google.colab.kernel.accessAllowed ? 'block' : 'none';\n",
              "\n",
              "        async function convertToInteractive(key) {\n",
              "          const element = document.querySelector('#df-cf127dae-9c9f-417a-8d7d-0f91d2818618');\n",
              "          const dataTable =\n",
              "            await google.colab.kernel.invokeFunction('convertToInteractive',\n",
              "                                                     [key], {});\n",
              "          if (!dataTable) return;\n",
              "\n",
              "          const docLinkHtml = 'Like what you see? Visit the ' +\n",
              "            '<a target=\"_blank\" href=https://colab.research.google.com/notebooks/data_table.ipynb>data table notebook</a>'\n",
              "            + ' to learn more about interactive tables.';\n",
              "          element.innerHTML = '';\n",
              "          dataTable['output_type'] = 'display_data';\n",
              "          await google.colab.output.renderOutput(dataTable, element);\n",
              "          const docLink = document.createElement('div');\n",
              "          docLink.innerHTML = docLinkHtml;\n",
              "          element.appendChild(docLink);\n",
              "        }\n",
              "      </script>\n",
              "    </div>\n",
              "  </div>\n"
            ]
          },
          "metadata": {},
          "execution_count": 52
        }
      ]
    },
    {
      "cell_type": "code",
      "source": [
        "#Looking for most cancelled product category\n",
        "canceled_products = df_cleaned[df_cleaned['order_status']=='canceled'].groupby('product_cat')['order_status'].count().sort_values(ascending=False)\n",
        "\n",
        "# pd.DataFrame(canceled_products) #previewing the data\n",
        "# canceled_products.sum() > to sum up the count of cancelled product category"
      ],
      "metadata": {
        "id": "n-rvQcgAOeS1"
      },
      "execution_count": 55,
      "outputs": []
    },
    {
      "cell_type": "code",
      "source": [
        "#Visualisizing the most cancelled product category\n",
        "\n",
        "# Defining numbers for highest revenue per product category\n",
        "highest_cancelled = canceled_products.head(5).sort_values()\n",
        "\n",
        "# Defining the colour map for color of the bars\n",
        "cmap = plt.cm.get_cmap('flare')\n",
        "\n",
        "# Creating a gradiant colour\n",
        "colors = np.linspace(0.1, 1, 5)\n",
        "\n",
        "# Creating the bar plot\n",
        "plt.figure(figsize=(10, 3)) #define the scale of the figure\n",
        "bars = plt.barh(highest_cancelled.index,\n",
        "                highest_cancelled.values,\n",
        "                color=cmap(colors)) #creating the bars by assigning the defined value\n",
        "# bars[-1].set_color('r') #distincts the higehst revenue\n",
        "\n",
        "# Annottating the value for each bar\n",
        "for i, v in zip(highest_cancelled.index, highest_cancelled.values):\n",
        "    plt.text(v, i, int(v), ha= 'left', va='center', fontsize=8)\n",
        "\n",
        "# Completing the figure labels\n",
        "plt.xlabel('Total of Cancels')\n",
        "plt.ylabel('Product Category')\n",
        "plt.title(f'Most Cancelled Products Category')\n",
        "plt.tight_layout()\n",
        "\n",
        "# Displaying the bar plot\n",
        "plt.show()"
      ],
      "metadata": {
        "colab": {
          "base_uri": "https://localhost:8080/",
          "height": 362
        },
        "id": "5dCxPVpSO6I7",
        "outputId": "804f8004-6a92-4dfe-b7a4-a58b9e17ecfb"
      },
      "execution_count": 80,
      "outputs": [
        {
          "output_type": "stream",
          "name": "stderr",
          "text": [
            "<ipython-input-80-e29ff46b2f70>:7: MatplotlibDeprecationWarning: The get_cmap function was deprecated in Matplotlib 3.7 and will be removed two minor releases later. Use ``matplotlib.colormaps[name]`` or ``matplotlib.colormaps.get_cmap(obj)`` instead.\n",
            "  cmap = plt.cm.get_cmap('flare')\n"
          ]
        },
        {
          "output_type": "display_data",
          "data": {
            "text/plain": [
              "<Figure size 1000x300 with 1 Axes>"
            ],
            "image/png": "[encoded data removed]"
          },
          "metadata": {}
        }
      ]
    },
    {
      "cell_type": "code",
      "source": [],
      "metadata": {
        "id": "vfTAOnkZcAXY"
      },
      "execution_count": null,
      "outputs": []
    },
    {
      "cell_type": "code",
      "source": [],
      "metadata": {
        "id": "4Lqg9ZH9cAjl"
      },
      "execution_count": null,
      "outputs": []
    },
    {
      "cell_type": "markdown",
      "source": [
        "# **Objective 4: Most Loyal Customer**"
      ],
      "metadata": {
        "id": "51S24dHXbt50"
      }
    },
    {
      "cell_type": "code",
      "source": [
        "# df_cleaned['customer_state'].unique()\n",
        "\n",
        "cust_state = df_cleaned.groupby(['customer_state'])['order_id'].count().sort_values(ascending=False)"
      ],
      "metadata": {
        "id": "Ejud82NdZrpM"
      },
      "execution_count": 57,
      "outputs": []
    },
    {
      "cell_type": "code",
      "source": [
        "#Visualisizing the most loyal customer based on the state origin\n",
        "\n",
        "# Defining numbers for state origin of customer\n",
        "top_cust_state = cust_state.head(5).sort_values()\n",
        "\n",
        "# Defining the colour map for color of the bars\n",
        "cmap = plt.cm.get_cmap('Spectral')\n",
        "\n",
        "# Creating a gradiant colour\n",
        "colors = np.linspace(0.8, 0.1, 5)\n",
        "\n",
        "# Creating the bar plot\n",
        "plt.figure(figsize=(10, 3)) #define the scale of the figure\n",
        "bars = plt.barh(top_cust_state.index,\n",
        "                top_cust_state.values,\n",
        "                color=cmap(colors)) #creating the bars by assigning the defined value\n",
        "# bars[-1].set_color('c') #distincts the highest value\n",
        "\n",
        "# Annottating the value for each bar\n",
        "for i, v in zip(top_cust_state.index, top_cust_state.values):\n",
        "    plt.text(v, i, int(v), ha= 'left', va='center', fontsize=8)\n",
        "\n",
        "\n",
        "# Completing the figure labels\n",
        "plt.xlabel('Count of Order')\n",
        "plt.ylabel('State')\n",
        "plt.title(f'Top 5 State Origin of Customer ')\n",
        "plt.tight_layout()\n",
        "\n",
        "# Displaying the bar plot\n",
        "plt.show()"
      ],
      "metadata": {
        "colab": {
          "base_uri": "https://localhost:8080/",
          "height": 362
        },
        "id": "EQRAOIbfcu1m",
        "outputId": "969180fc-a1b1-43ee-dc61-1454dbca4fb6"
      },
      "execution_count": 78,
      "outputs": [
        {
          "output_type": "stream",
          "name": "stderr",
          "text": [
            "<ipython-input-78-06f3abe3977a>:7: MatplotlibDeprecationWarning: The get_cmap function was deprecated in Matplotlib 3.7 and will be removed two minor releases later. Use ``matplotlib.colormaps[name]`` or ``matplotlib.colormaps.get_cmap(obj)`` instead.\n",
            "  cmap = plt.cm.get_cmap('Spectral')\n"
          ]
        },
        {
          "output_type": "display_data",
          "data": {
            "text/plain": [
              "<Figure size 1000x300 with 1 Axes>"
            ],
            "image/png": "[encoded data removed]"
          },
          "metadata": {}
        }
      ]
    },
    {
      "cell_type": "markdown",
      "source": [
        "# Product Analysist on Specific Market (Sao Paolo Cases)"
      ],
      "metadata": {
        "id": "FJvAJq9qj2wD"
      }
    },
    {
      "cell_type": "markdown",
      "source": [
        "Review Score of Most Ordered Product"
      ],
      "metadata": {
        "id": "qjqWfh70qZC3"
      }
    },
    {
      "cell_type": "code",
      "source": [
        "#Selecting the specific customer state Sao Paolo (SP)\n",
        "sp_state_data = df_cleaned[df_cleaned['customer_state']=='SP']\n",
        "\n",
        "#Grouping the product category\n",
        "sp_prod  = sp_state_data.groupby('product_cat')['order_id'].count().sort_values(ascending=False).head(6)\n",
        "\n",
        "sp_prod"
      ],
      "metadata": {
        "colab": {
          "base_uri": "https://localhost:8080/"
        },
        "id": "9I14PZimgawG",
        "outputId": "5cb2190f-8781-421f-c467-4983ab27201e"
      },
      "execution_count": 105,
      "outputs": [
        {
          "output_type": "execute_result",
          "data": {
            "text/plain": [
              "product_cat\n",
              "bed_bath_table           4435\n",
              "health_beauty            3389\n",
              "sports_leisure           3064\n",
              "furniture_decor          2630\n",
              "computers_accessories    2565\n",
              "housewares               2517\n",
              "Name: order_id, dtype: int64"
            ]
          },
          "metadata": {},
          "execution_count": 105
        }
      ]
    },
    {
      "cell_type": "code",
      "source": [
        "#Visualisizing the score review percentages\n",
        "\n",
        "#Defining the rate of review score\n",
        "rate = [1, 2, 3, 4, 5]\n",
        "\n",
        "#Counting the review score per rate\n",
        "sp_percentage_review = sp_state_data.groupby('review_score')['review_score'].count()\n",
        "\n",
        "# Creating a gradiant colour\n",
        "cmap = plt.cm.get_cmap('autumn')\n",
        "colors_set = np.linspace(0.9, 0.4, 5)\n",
        "\n",
        "#Separator\n",
        "explode_set = (0.3, 0, 0, 0, 0)\n",
        "\n",
        "#Creating a pie plot\n",
        "fig, ax = plt.subplots(figsize=(5, 5)) #setting the fig/ax scale\n",
        "ax.pie(sp_percentage_review,\n",
        "        colors= cmap(colors_set),\n",
        "        autopct=\"%.1f%%\",\n",
        "        pctdistance= 0.80,\n",
        "        explode = explode_set)\n",
        "\n",
        "#Adding a donut effect\n",
        "center_pie = plt.Circle((0, 0), 0.55, fc= 'white')\n",
        "fig.gca().add_artist(center_pie)\n",
        "\n",
        "#Ncompleting the title and legen\n",
        "plt.title(\"The Percentages of Review Score by Sao Paolo Customer\")\n",
        "plt.legend(rate,\n",
        "           loc='upper left',\n",
        "           title='Review Score')\n",
        "\n",
        "#Showing the label\n",
        "plt.show()"
      ],
      "metadata": {
        "colab": {
          "base_uri": "https://localhost:8080/",
          "height": 499
        },
        "id": "T8oaPhSCwmRC",
        "outputId": "a5beeb89-c8ec-4294-bcab-ee07d3c84c5b"
      },
      "execution_count": 106,
      "outputs": [
        {
          "output_type": "stream",
          "name": "stderr",
          "text": [
            "<ipython-input-106-20abf35049d7>:10: MatplotlibDeprecationWarning: The get_cmap function was deprecated in Matplotlib 3.7 and will be removed two minor releases later. Use ``matplotlib.colormaps[name]`` or ``matplotlib.colormaps.get_cmap(obj)`` instead.\n",
            "  cmap = plt.cm.get_cmap('autumn')\n"
          ]
        },
        {
          "output_type": "display_data",
          "data": {
            "text/plain": [
              "<Figure size 500x500 with 1 Axes>"
            ],
            "image/png": "[encoded data removed]"
          },
          "metadata": {}
        }
      ]
    },
    {
      "cell_type": "code",
      "source": [
        "#Counting the review score greater than 3 for each product category\n",
        "sp_good_review = sp_state_data[sp_state_data['review_score'] > 3].groupby('product_cat')['review_score'].count().sort_values(ascending=False)\n",
        "\n",
        "#Top 6 good reviewed products\n",
        "sp_good_review = pd.DataFrame(sp_good_review).head(6)\n",
        "\n",
        "#Reset the index, rename the column, to join the dataframe\n",
        "sp_good_review.reset_index(inplace=True)\n",
        "sp_good_review.rename(columns ={'review_score':'good_review'}, inplace=True)"
      ],
      "metadata": {
        "id": "ceqv9yXvhizk"
      },
      "execution_count": 107,
      "outputs": []
    },
    {
      "cell_type": "code",
      "source": [
        "#counting the review score less and equals to 3 for each product category\n",
        "sp_bad_review = sp_state_data[sp_state_data['review_score'] <= 3].groupby('product_cat')['review_score'].count().sort_values(ascending=False)\n",
        "\n",
        "#Top 6 Bad Reviewed Product\n",
        "sp_bad_review = pd.DataFrame(sp_bad_review).head(6)\n",
        "\n",
        "#Reset the index and rename the column to merge the dataframe\n",
        "sp_bad_review.reset_index(inplace=True)\n",
        "sp_bad_review.rename(columns = {'review_score':'bad_review'}, inplace=True)\n"
      ],
      "metadata": {
        "id": "J_ZWTQVtkgY_"
      },
      "execution_count": 108,
      "outputs": []
    },
    {
      "cell_type": "code",
      "source": [
        "#Merging the two former dataframe\n",
        "ratio_score_review = pd.merge(sp_bad_review, sp_good_review, on='product_cat').sort_values('good_review')\n",
        "\n",
        "# Adding the percentagesof bad review\n",
        "col = []\n",
        "for x, y in zip(ratio_score_review['bad_review'], ratio_score_review['good_review']):\n",
        "  z = f'{round(x/(x+y) *100, 1)}%'\n",
        "  col.append(z)\n",
        "\n",
        "ratio_score_review['ratio_bad_score'] = col\n",
        "\n",
        "# Preview the dataframe\n",
        "ratio_score_review.sort_values('ratio_bad_score', ascending=False)"
      ],
      "metadata": {
        "id": "iwCdy9A9nwa3",
        "colab": {
          "base_uri": "https://localhost:8080/",
          "height": 238
        },
        "outputId": "93c64a33-ef7b-438f-9ed8-1eed02f162f4"
      },
      "execution_count": 116,
      "outputs": [
        {
          "output_type": "execute_result",
          "data": {
            "text/plain": [
              "             product_cat  bad_review  good_review ratio_bad_score\n",
              "0         bed_bath_table        1081         3354           24.4%\n",
              "2  computers_accessories         607         1958           23.7%\n",
              "3        furniture_decor         596         2034           22.7%\n",
              "4         sports_leisure         587         2477           19.2%\n",
              "5             housewares         473         2044           18.8%\n",
              "1          health_beauty         623         2766           18.4%"
            ],
            "text/html": [
              "\n",
              "\n",
              "  <div id=\"df-a77d53e1-5433-45a3-8365-42132c3fd235\">\n",
              "    <div class=\"colab-df-container\">\n",
              "      <div>\n",
              "<style scoped>\n",
              "    .dataframe tbody tr th:only-of-type {\n",
              "        vertical-align: middle;\n",
              "    }\n",
              "\n",
              "    .dataframe tbody tr th {\n",
              "        vertical-align: top;\n",
              "    }\n",
              "\n",
              "    .dataframe thead th {\n",
              "        text-align: right;\n",
              "    }\n",
              "</style>\n",
              "<table border=\"1\" class=\"dataframe\">\n",
              "  <thead>\n",
              "    <tr style=\"text-align: right;\">\n",
              "      <th></th>\n",
              "      <th>product_cat</th>\n",
              "      <th>bad_review</th>\n",
              "      <th>good_review</th>\n",
              "      <th>ratio_bad_score</th>\n",
              "    </tr>\n",
              "  </thead>\n",
              "  <tbody>\n",
              "    <tr>\n",
              "      <th>0</th>\n",
              "      <td>bed_bath_table</td>\n",
              "      <td>1081</td>\n",
              "      <td>3354</td>\n",
              "      <td>24.4%</td>\n",
              "    </tr>\n",
              "    <tr>\n",
              "      <th>2</th>\n",
              "      <td>computers_accessories</td>\n",
              "      <td>607</td>\n",
              "      <td>1958</td>\n",
              "      <td>23.7%</td>\n",
              "    </tr>\n",
              "    <tr>\n",
              "      <th>3</th>\n",
              "      <td>furniture_decor</td>\n",
              "      <td>596</td>\n",
              "      <td>2034</td>\n",
              "      <td>22.7%</td>\n",
              "    </tr>\n",
              "    <tr>\n",
              "      <th>4</th>\n",
              "      <td>sports_leisure</td>\n",
              "      <td>587</td>\n",
              "      <td>2477</td>\n",
              "      <td>19.2%</td>\n",
              "    </tr>\n",
              "    <tr>\n",
              "      <th>5</th>\n",
              "      <td>housewares</td>\n",
              "      <td>473</td>\n",
              "      <td>2044</td>\n",
              "      <td>18.8%</td>\n",
              "    </tr>\n",
              "    <tr>\n",
              "      <th>1</th>\n",
              "      <td>health_beauty</td>\n",
              "      <td>623</td>\n",
              "      <td>2766</td>\n",
              "      <td>18.4%</td>\n",
              "    </tr>\n",
              "  </tbody>\n",
              "</table>\n",
              "</div>\n",
              "      <button class=\"colab-df-convert\" onclick=\"convertToInteractive('df-a77d53e1-5433-45a3-8365-42132c3fd235')\"\n",
              "              title=\"Convert this dataframe to an interactive table.\"\n",
              "              style=\"display:none;\">\n",
              "\n",
              "  <svg xmlns=\"http://www.w3.org/2000/svg\" height=\"24px\"viewBox=\"0 0 24 24\"\n",
              "       width=\"24px\">\n",
              "    <path d=\"M0 0h24v24H0V0z\" fill=\"none\"/>\n",
              "    <path d=\"M18.56 5.44l.94 2.06.94-2.06 2.06-.94-2.06-.94-.94-2.06-.94 2.06-2.06.94zm-11 1L8.5 8.5l.94-2.06 2.06-.94-2.06-.94L8.5 2.5l-.94 2.06-2.06.94zm10 10l.94 2.06.94-2.06 2.06-.94-2.06-.94-.94-2.06-.94 2.06-2.06.94z\"/><path d=\"M17.41 7.96l-1.37-1.37c-.4-.4-.92-.59-1.43-.59-.52 0-1.04.2-1.43.59L10.3 9.45l-7.72 7.72c-.78.78-.78 2.05 0 2.83L4 21.41c.39.39.9.59 1.41.59.51 0 1.02-.2 1.41-.59l7.78-7.78 2.81-2.81c.8-.78.8-2.07 0-2.86zM5.41 20L4 18.59l7.72-7.72 1.47 1.35L5.41 20z\"/>\n",
              "  </svg>\n",
              "      </button>\n",
              "\n",
              "\n",
              "\n",
              "    <div id=\"df-7bce1a71-8c75-4222-ace5-87aee4a1a0bb\">\n",
              "      <button class=\"colab-df-quickchart\" onclick=\"quickchart('df-7bce1a71-8c75-4222-ace5-87aee4a1a0bb')\"\n",
              "              title=\"Suggest charts.\"\n",
              "              style=\"display:none;\">\n",
              "\n",
              "<svg xmlns=\"http://www.w3.org/2000/svg\" height=\"24px\"viewBox=\"0 0 24 24\"\n",
              "     width=\"24px\">\n",
              "    <g>\n",
              "        <path d=\"M19 3H5c-1.1 0-2 .9-2 2v14c0 1.1.9 2 2 2h14c1.1 0 2-.9 2-2V5c0-1.1-.9-2-2-2zM9 17H7v-7h2v7zm4 0h-2V7h2v10zm4 0h-2v-4h2v4z\"/>\n",
              "    </g>\n",
              "</svg>\n",
              "      </button>\n",
              "    </div>\n",
              "\n",
              "<style>\n",
              "  .colab-df-quickchart {\n",
              "    background-color: #E8F0FE;\n",
              "    border: none;\n",
              "    border-radius: 50%;\n",
              "    cursor: pointer;\n",
              "    display: none;\n",
              "    fill: #1967D2;\n",
              "    height: 32px;\n",
              "    padding: 0 0 0 0;\n",
              "    width: 32px;\n",
              "  }\n",
              "\n",
              "  .colab-df-quickchart:hover {\n",
              "    background-color: #E2EBFA;\n",
              "    box-shadow: 0px 1px 2px rgba(60, 64, 67, 0.3), 0px 1px 3px 1px rgba(60, 64, 67, 0.15);\n",
              "    fill: #174EA6;\n",
              "  }\n",
              "\n",
              "  [theme=dark] .colab-df-quickchart {\n",
              "    background-color: #3B4455;\n",
              "    fill: #D2E3FC;\n",
              "  }\n",
              "\n",
              "  [theme=dark] .colab-df-quickchart:hover {\n",
              "    background-color: #434B5C;\n",
              "    box-shadow: 0px 1px 3px 1px rgba(0, 0, 0, 0.15);\n",
              "    filter: drop-shadow(0px 1px 2px rgba(0, 0, 0, 0.3));\n",
              "    fill: #FFFFFF;\n",
              "  }\n",
              "</style>\n",
              "\n",
              "    <script>\n",
              "      async function quickchart(key) {\n",
              "        const containerElement = document.querySelector('#' + key);\n",
              "        const charts = await google.colab.kernel.invokeFunction(\n",
              "            'suggestCharts', [key], {});\n",
              "      }\n",
              "    </script>\n",
              "\n",
              "      <script>\n",
              "\n",
              "function displayQuickchartButton(domScope) {\n",
              "  let quickchartButtonEl =\n",
              "    domScope.querySelector('#df-7bce1a71-8c75-4222-ace5-87aee4a1a0bb button.colab-df-quickchart');\n",
              "  quickchartButtonEl.style.display =\n",
              "    google.colab.kernel.accessAllowed ? 'block' : 'none';\n",
              "}\n",
              "\n",
              "        displayQuickchartButton(document);\n",
              "      </script>\n",
              "      <style>\n",
              "    .colab-df-container {\n",
              "      display:flex;\n",
              "      flex-wrap:wrap;\n",
              "      gap: 12px;\n",
              "    }\n",
              "\n",
              "    .colab-df-convert {\n",
              "      background-color: #E8F0FE;\n",
              "      border: none;\n",
              "      border-radius: 50%;\n",
              "      cursor: pointer;\n",
              "      display: none;\n",
              "      fill: #1967D2;\n",
              "      height: 32px;\n",
              "      padding: 0 0 0 0;\n",
              "      width: 32px;\n",
              "    }\n",
              "\n",
              "    .colab-df-convert:hover {\n",
              "      background-color: #E2EBFA;\n",
              "      box-shadow: 0px 1px 2px rgba(60, 64, 67, 0.3), 0px 1px 3px 1px rgba(60, 64, 67, 0.15);\n",
              "      fill: #174EA6;\n",
              "    }\n",
              "\n",
              "    [theme=dark] .colab-df-convert {\n",
              "      background-color: #3B4455;\n",
              "      fill: #D2E3FC;\n",
              "    }\n",
              "\n",
              "    [theme=dark] .colab-df-convert:hover {\n",
              "      background-color: #434B5C;\n",
              "      box-shadow: 0px 1px 3px 1px rgba(0, 0, 0, 0.15);\n",
              "      filter: drop-shadow(0px 1px 2px rgba(0, 0, 0, 0.3));\n",
              "      fill: #FFFFFF;\n",
              "    }\n",
              "  </style>\n",
              "\n",
              "      <script>\n",
              "        const buttonEl =\n",
              "          document.querySelector('#df-a77d53e1-5433-45a3-8365-42132c3fd235 button.colab-df-convert');\n",
              "        buttonEl.style.display =\n",
              "          google.colab.kernel.accessAllowed ? 'block' : 'none';\n",
              "\n",
              "        async function convertToInteractive(key) {\n",
              "          const element = document.querySelector('#df-a77d53e1-5433-45a3-8365-42132c3fd235');\n",
              "          const dataTable =\n",
              "            await google.colab.kernel.invokeFunction('convertToInteractive',\n",
              "                                                     [key], {});\n",
              "          if (!dataTable) return;\n",
              "\n",
              "          const docLinkHtml = 'Like what you see? Visit the ' +\n",
              "            '<a target=\"_blank\" href=https://colab.research.google.com/notebooks/data_table.ipynb>data table notebook</a>'\n",
              "            + ' to learn more about interactive tables.';\n",
              "          element.innerHTML = '';\n",
              "          dataTable['output_type'] = 'display_data';\n",
              "          await google.colab.output.renderOutput(dataTable, element);\n",
              "          const docLink = document.createElement('div');\n",
              "          docLink.innerHTML = docLinkHtml;\n",
              "          element.appendChild(docLink);\n",
              "        }\n",
              "      </script>\n",
              "    </div>\n",
              "  </div>\n"
            ]
          },
          "metadata": {},
          "execution_count": 116
        }
      ]
    },
    {
      "cell_type": "code",
      "source": [
        "#Creating the grouped bar comparing the good review and bad review of each most ordered product\n",
        "\n",
        "#define the number of needed grouped bar\n",
        "x = np.arange(len(ratio_score_review['product_cat']))\n",
        "\n",
        "#setting the width of grouped bar\n",
        "width = 0.40\n",
        "\n",
        "#setting the grouped bar\n",
        "plt.barh(x-width/2, ratio_score_review['bad_review'].values, width, label= 'Bad Review Score')\n",
        "plt.barh(x+width/2, ratio_score_review['good_review'].values, width, label= 'Good Review Score')\n",
        "\n",
        "#assigning the label on y axis\n",
        "plt.yticks(x, ratio_score_review['product_cat'].values)\n",
        "\n",
        "#completing the label\n",
        "plt.xlabel('Count of Review Score')\n",
        "plt.ylabel('Product Category')\n",
        "plt.title('Count of Bad Review and Good Review of Most Ordered Product Category in Sao Paolo')\n",
        "plt.legend()\n",
        "\n",
        "#showing the label\n",
        "plt.show()\n"
      ],
      "metadata": {
        "colab": {
          "base_uri": "https://localhost:8080/",
          "height": 472
        },
        "id": "QhO0ddF3YG-5",
        "outputId": "efdba520-7f2a-4569-c278-1acc1fc8deb1"
      },
      "execution_count": 115,
      "outputs": [
        {
          "output_type": "display_data",
          "data": {
            "text/plain": [
              "<Figure size 640x480 with 1 Axes>"
            ],
            "image/png": "[encoded data removed]"
          },
          "metadata": {}
        }
      ]
    },
    {
      "cell_type": "markdown",
      "source": [
        "# **ANALISIS**"
      ],
      "metadata": {
        "id": "6LOT86c8PnW4"
      }
    },
    {
      "cell_type": "markdown",
      "source": [
        "1. Bed Bath Table merupakan kategori produk yang memiliki pesanana terbesar di Olyst Marketplace sebesar 11.268 pesanan, mengungguli jauh produk-produk di bawahnya dengan margin hampir 3.000 pesanan. Sementara itu, computers menjadi kategori produk dengan pesanan terkecil hanya 1 pesanan. 4 kategori lain juga mencatatkan jumlah pesanan yang sangat kecil di bawah 15 pesanan. Dari hasil ini, maka optimisasi penjualan dapat dilakukan dengan menutup penjualan pada jenis-jenis produk dengan pesanan yang minim.\n",
        "\n",
        "2. Berdasarkan jumlah pesanan yang berhasil diterima oleh customer, maka penjualan bersih terbesar direpresentasikan pula oleh kategori Bed Bath Table dengan angka sekitar 998.785. Sementara itu, revenue terkecil juga mdirepresentasikan dengan jumlah pesanan terkecil yang sama, setidaknya 3 urutan terbawah dengan value penjualan kurang dari 500.\n",
        "\n",
        "3. Sejauh ini, penjualan barang di Olist Marketplace secara keseluruhan sudah baik dalam hal ketersediaan stok karena hany ada 6 produk dengan status tidak tersedia, yakni masing-masing 1 dari kategori Auto dan kategori Cool Stuff, dan masing-masing 2 dari kategori Baby dan Perfumery\n",
        "\n",
        "4. Kategori produk yang sering dibatalkan oleh consumer adalah kategori Hosewares sebanyak 48 order, diikuti oleh Sport Leisure sebanyak 46 order. Kuantitas pembatasaln produk tidak terlalu signifikan.\n",
        "\n",
        "5. Customer terbesar berasal dari Sao Paolo (SP) dengan lebih dari 43.000 order. Jumlah yang sangat signifikan dibanding kota lain. Urutan kedua Rio de Janeiro bahkan hanya memiliki 13.000 an order. Maka, optimisasi penjualan dapat dilakukan dengan marketing dan insentifikasi yang besar di wilayah ini.\n",
        "\n",
        "6. Kategori Produk yang paling besar dipesan oleh Customer dari Sao Paolo juga cukup representatif dengan kategori produks dipesan paling banyak secara general.\n",
        "\n",
        "7. Meski secara umum penilaian customer baik, penilaian dengan skor 1 juga cukup tinggi dengan 10% lebih, bahkan lebih besar daripada skor 2 dan skor 3.\n",
        "\n",
        "8. Jika penilain review dikategorikan menjadi Good Review dan Bad Review, maka 5 kategori produk tertinggi memiliki rasio Bad Review yang cukup besar (antara 19-26%). Maka perlu upaya untuk mempertahankan kualitas kategori produk hingga ke tangan customer."
      ],
      "metadata": {
        "id": "jF8w3t1JB7IQ"
      }
    }
  ],
  "metadata": {
    "colab": {
      "provenance": [],
      "mount_file_id": "1yCOHBU4MC7ndCGBiCF6A2lZ_SFZg8vWJ",
      "authorship_tag": "ABX9TyOzySMYI5pVWNfSECQ/dVZe",
      "include_colab_link": true
    },
    "kernelspec": {
      "display_name": "Python 3",
      "name": "python3"
    },
    "language_info": {
      "name": "python"
    }
  },
  "nbformat": 4,
  "nbformat_minor": 0
}